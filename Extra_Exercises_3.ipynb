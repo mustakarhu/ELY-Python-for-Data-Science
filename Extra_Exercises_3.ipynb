{
 "cells": [
  {
   "cell_type": "markdown",
   "metadata": {
    "colab_type": "text",
    "id": "uqA5fok2t8Wq"
   },
   "source": [
    "#**Bonus Exercises Lecture 3**\n",
    "**Assignment Submission:**\n",
    "* The submission for this assignment is optional\n",
    "* Don't change the notebook's name. Eg: Extra-Exercise-3.ipynb\n",
    "* Submit your assignment via the link: https://www.bit.ly/python-submit\n",
    " "
   ]
  },
  {
   "cell_type": "markdown",
   "metadata": {
    "colab_type": "text",
    "id": "mvsZHnPXvvR-"
   },
   "source": [
    "1 - Given a two list of ints create a third list such that should contain only *odd* numbers from the first list and *even* numbers from the second list\n",
    "\n",
    "```\n",
    "#Given lists\n",
    "listOne = [10, 20, 23, 11, 17]\n",
    "listTwo = [13, 43, 24, 36, 12]\n",
    "#Expected Output:\n",
    "Merged List is\n",
    "[23, 11, 17, 24, 36, 12]\n",
    "```\n",
    "\n",
    "\n",
    "\n"
   ]
  },
  {
   "cell_type": "code",
   "execution_count": 3,
   "metadata": {
    "colab": {},
    "colab_type": "code",
    "id": "cMrlwxYHzEmP"
   },
   "outputs": [
    {
     "name": "stdout",
     "output_type": "stream",
     "text": [
      "[23, 11, 17, 24, 36, 12]\n"
     ]
    }
   ],
   "source": [
    "#Your Solution goes here\n",
    "\n",
    "#Given lists\n",
    "listOne = [10, 20, 23, 11, 17]\n",
    "listTwo = [13, 43, 24, 36, 12]\n",
    "\n",
    "mergedList = list(filter(lambda x: x%2==1, listOne))\n",
    "mergedList+= list(filter(lambda x: x%2==0, listTwo))\n",
    "\n",
    "print(mergedList)"
   ]
  },
  {
   "cell_type": "markdown",
   "metadata": {
    "colab_type": "text",
    "id": "ubA5ZtDHybW4"
   },
   "source": [
    "2 - Given a list of ints, create a function (eg: isFirst_And_Last_Same) return True if first and last number of a list is same\n",
    "\n",
    "```\n",
    "#Given list\n",
    "numList = [2020,2019,2018,2017,2016,2020]\n",
    "```"
   ]
  },
  {
   "cell_type": "code",
   "execution_count": 36,
   "metadata": {
    "colab": {},
    "colab_type": "code",
    "id": "MxZNnTsWzIup"
   },
   "outputs": [
    {
     "name": "stdout",
     "output_type": "stream",
     "text": [
      "False\n"
     ]
    }
   ],
   "source": [
    "#Your solution goes here\n",
    "def isFirst_And_Last_Same(nList):\n",
    "    if nList[0]==nList[::-1][0]:\n",
    "        return True\n",
    "    else:\n",
    "        return False\n",
    "\n",
    "#Given list\n",
    "numList = [2020,2019,2018,2017,2016,2020]\n",
    "numList2 = [2020,2019,2018,2017,2016,2031]\n",
    "\n",
    "\n",
    "print(isFirst_And_Last_Same(numList2))"
   ]
  },
  {
   "cell_type": "markdown",
   "metadata": {
    "colab_type": "text",
    "id": "PQzFxu59z1Am"
   },
   "source": [
    "3 - Given a string of odd length greater 7. Create a function (eg: getMiddleThreeChars) return a string made of the middle three chars of a given string\n",
    "\n",
    "For example: \n",
    "* getMiddleThreeChars(\"TheShortcut\") => \"hor\" \n",
    "* getMiddleThreeChars(\"Jasonay\") => \"son\""
   ]
  },
  {
   "cell_type": "code",
   "execution_count": 38,
   "metadata": {
    "colab": {},
    "colab_type": "code",
    "id": "W_BVyF-x4oOr"
   },
   "outputs": [
    {
     "name": "stdout",
     "output_type": "stream",
     "text": [
      "bbb\n"
     ]
    }
   ],
   "source": [
    "#Your solution goes here\n",
    "def getMiddleThreeChars(inString):\n",
    "    if (len(inString)%2==0 or len(inString)<7):\n",
    "        return \"\"\n",
    "    \n",
    "    return inString[len(inString)//2-1:(len(inString))//2+2]\n",
    "\n",
    "str1 = \"aaaaaaaaaaaaaaaaabbbaaaaaaaaaaaaaaaaa\"\n",
    "str2 = \"Jasonay\"\n",
    "str3 = \"TheShortcut\"\n",
    "print(getMiddleThreeChars(str1))"
   ]
  },
  {
   "cell_type": "markdown",
   "metadata": {
    "colab_type": "text",
    "id": "GEpQzpbe65fJ"
   },
   "source": [
    "4 - Define a class named Circle which can be constructed by a radius. The Circle class has a method which can compute the area.\n",
    "\n",
    "* Hint: Use def methodName(self) to define a method"
   ]
  },
  {
   "cell_type": "code",
   "execution_count": 40,
   "metadata": {
    "colab": {},
    "colab_type": "code",
    "id": "0RYePOia6-u4"
   },
   "outputs": [
    {
     "name": "stdout",
     "output_type": "stream",
     "text": [
      "small circle area: 3.14 \t medium circle area: 12.57 \t large circle area: 28.27\n"
     ]
    }
   ],
   "source": [
    "#Your solution goes here\n",
    "import math\n",
    "class Circle():\n",
    "    def __init__(self,radius:int=0):\n",
    "        self.radius = radius\n",
    "    \n",
    "    def area(self):\n",
    "        return math.pi*self.radius**2\n",
    "\n",
    "\n",
    "small = Circle(1)\n",
    "medium = Circle(2)\n",
    "large = Circle(3)\n",
    "\n",
    "print(f\"small circle area: {small.area():.2f} \\t medium circle area: {medium.area():.2f} \\t large circle area: {large.area():.2f}\")\n"
   ]
  },
  {
   "cell_type": "code",
   "execution_count": 57,
   "metadata": {},
   "outputs": [
    {
     "data": {
      "text/plain": [
       "[1.11, 2.22, 3.33, 4.44]"
      ]
     },
     "execution_count": 57,
     "metadata": {},
     "output_type": "execute_result"
    }
   ],
   "source": [
    "ll = [1.1111111, 2.222222222, 3.33333333, 4.444444]\n",
    "\n",
    "ll2 = [round(elem,2) for elem in ll]\n",
    "\n",
    "ll2"
   ]
  }
 ],
 "metadata": {
  "colab": {
   "collapsed_sections": [],
   "name": "Extra-Exercises-3.ipynb",
   "provenance": []
  },
  "kernelspec": {
   "display_name": "Python 3",
   "language": "python",
   "name": "python3"
  },
  "language_info": {
   "codemirror_mode": {
    "name": "ipython",
    "version": 3
   },
   "file_extension": ".py",
   "mimetype": "text/x-python",
   "name": "python",
   "nbconvert_exporter": "python",
   "pygments_lexer": "ipython3",
   "version": "3.7.3"
  }
 },
 "nbformat": 4,
 "nbformat_minor": 1
}
