{
 "cells": [
  {
   "cell_type": "markdown",
   "metadata": {},
   "source": [
    "# Part 1. Practice Questions\n",
    "\n",
    "Son Huynh 31.01.2020"
   ]
  },
  {
   "cell_type": "markdown",
   "metadata": {},
   "source": [
    "Deadline: **10am 21.02** (Friday)\n",
    "\n",
    "Submit link: https://www.dropbox.com/request/ZvBWoQUCy8pwRVxQxwJx"
   ]
  },
  {
   "cell_type": "markdown",
   "metadata": {},
   "source": [
    "#### Question 1a\n",
    "\n",
    "You are given a list of dog names. Complete the function __dogAdoption()__ to print the name of each dog in the list."
   ]
  },
  {
   "cell_type": "code",
   "execution_count": 1,
   "metadata": {},
   "outputs": [],
   "source": [
    "dogs_to_adopt = ['Kobe', 'Leo', 'Bubba', 'Buddy', 'Simba']"
   ]
  },
  {
   "cell_type": "code",
   "execution_count": 2,
   "metadata": {},
   "outputs": [
    {
     "name": "stdout",
     "output_type": "stream",
     "text": [
      "Kobe Leo Bubba Buddy Simba "
     ]
    }
   ],
   "source": [
    "def dogAdoption():\n",
    "    # Write your solution here\n",
    "    for dog in dogs_to_adopt:\n",
    "        print(dog, end=' ')\n",
    "\n",
    "dogAdoption()"
   ]
  },
  {
   "cell_type": "markdown",
   "metadata": {},
   "source": [
    "#### Question 1b\n",
    "\n",
    "The names 'Bubba' and 'Buddy' are stored in __var1__ and __var2__. Complete the code below to check if var1 and var2 have the same length."
   ]
  },
  {
   "cell_type": "code",
   "execution_count": 3,
   "metadata": {},
   "outputs": [
    {
     "name": "stdout",
     "output_type": "stream",
     "text": [
      "same length\n"
     ]
    }
   ],
   "source": [
    "var1 = 'Bubba'\n",
    "var2 = 'Buddy'\n",
    "# Write your solution here\n",
    "if len(var1) == len(var2):\n",
    "    print(\"same length\")\n",
    "else:\n",
    "    print(\"not same length\")"
   ]
  },
  {
   "cell_type": "markdown",
   "metadata": {},
   "source": [
    "#### Question 2\n",
    "\n",
    "There are 10 syntax errors in this function. Try to find and correct them.\n",
    "\n",
    "_Hint: You can use single quotes, double quotes or tripple quotes around your string._"
   ]
  },
  {
   "cell_type": "code",
   "execution_count": 4,
   "metadata": {},
   "outputs": [
    {
     "name": "stdout",
     "output_type": "stream",
     "text": [
      "Ok\n",
      "I can't use single quotes\n",
      "4\n",
      "Ok\n",
      "Ok\n"
     ]
    }
   ],
   "source": [
    "def someFunction(): #1. missing round brackets\n",
    "    #print(someString)   #2. someString is not declared\n",
    "    for i in range(5): # 3. missing semicolon at the end of for declaration\n",
    "        if i == 1:         #4. not properly tabulated | 5. missing extra equal sign \n",
    "            print('I can\\'t use single quotes') #6. escape sequence missing on quote mark\n",
    "        elif i == 2:       #7. 2 else statements in this code. use elif on this one\n",
    "            print((1+1)*2) #8. not properly nested. remove extra round bracket\n",
    "        else:              #9. use colon not semicolon \n",
    "            print ('Ok')     #10. missing round brackets around 'ok'\n",
    "            \n",
    "someFunction()\n",
    "\n",
    "#Important: Please correct only syntax errors (wrong keyword, missing symbol, ...). \n",
    "#Don't change the logic of the function. If you accidentally delete something, copy the code below to restore the question"
   ]
  },
  {
   "cell_type": "raw",
   "metadata": {},
   "source": [
    "def someFunction:\n",
    "    print(someString)\n",
    "    for i in range(5)\n",
    "     if i = 1:\n",
    "            print('I can't use single quotes')\n",
    "        else i == 2:\n",
    "            print((1+1)*2))\n",
    "        else;\n",
    "            print 'Ok'"
   ]
  },
  {
   "cell_type": "markdown",
   "metadata": {},
   "source": [
    "#### Question 3\n",
    "\n",
    "You are given a list of age groups. Complete the function to convert each group into a number. So _'16-20'_ becomes _1_, _'21-30'_ becomes _2_ and so on. Append the results to a new list."
   ]
  },
  {
   "cell_type": "code",
   "execution_count": 5,
   "metadata": {},
   "outputs": [],
   "source": [
    "age_groups = ['16-20', '21-30', '31-40', '41-50', '51-60']"
   ]
  },
  {
   "cell_type": "code",
   "execution_count": 6,
   "metadata": {},
   "outputs": [
    {
     "data": {
      "text/plain": [
       "[1, 2, 3, 4, 5]"
      ]
     },
     "execution_count": 6,
     "metadata": {},
     "output_type": "execute_result"
    }
   ],
   "source": [
    "def convertAge(age_groups):\n",
    "    new_age_groups = []    \n",
    "    for group in age_groups:\n",
    "        # Write your solution here\n",
    "        # Taking the first character of each string to make index of age group 16 -> 1, 21->2 ... dndm = dn\n",
    "        new_age_groups+=[int(group[0])]\n",
    "    return new_age_groups\n",
    "\n",
    "convertAge(age_groups)"
   ]
  },
  {
   "cell_type": "raw",
   "metadata": {},
   "source": [
    "Your program should return a list [1, 2, 3, 4, 5]"
   ]
  },
  {
   "cell_type": "markdown",
   "metadata": {},
   "source": [
    "#### Question 4a\n",
    "\n",
    "You are given a list of people. Each person's information __[name, birthdate, skills, salary]__ is contained in an inner list. The function __salary()__ finds and append every person's salary to a list. Finish the return statement to return a sorted salary list from _highest to lowest_."
   ]
  },
  {
   "cell_type": "code",
   "execution_count": 37,
   "metadata": {},
   "outputs": [],
   "source": [
    "people = [['Nigel Toon', '19-12-1985', 'Python, Javascript, Ruby', 5000],\n",
    "          ['Maria Raga', '03-08-1992', 'Javascript, C++, C', 7500],\n",
    "          ['Risi Kosla', '12-07-1981', 'Julia, Python, R', 4000]]"
   ]
  },
  {
   "cell_type": "code",
   "execution_count": 8,
   "metadata": {
    "scrolled": true
   },
   "outputs": [
    {
     "data": {
      "text/plain": [
       "[7500, 5000, 4000]"
      ]
     },
     "execution_count": 8,
     "metadata": {},
     "output_type": "execute_result"
    }
   ],
   "source": [
    "def salary(people):\n",
    "    salary_list = []\n",
    "    for person in people:\n",
    "        salary_list.append(person[3])\n",
    "    \n",
    "    salary_list.sort(reverse=True) #reverse sort\n",
    "    return salary_list# Finish this line\n",
    "\n",
    "salary(people)"
   ]
  },
  {
   "cell_type": "raw",
   "metadata": {},
   "source": [
    "Your program should return a list [7500, 5000, 4000]"
   ]
  },
  {
   "cell_type": "markdown",
   "metadata": {},
   "source": [
    "#### Question 4b\n",
    "\n",
    "Complete the function to extract the birthdays and append them to a list."
   ]
  },
  {
   "cell_type": "code",
   "execution_count": 9,
   "metadata": {},
   "outputs": [
    {
     "data": {
      "text/plain": [
       "['19-12', '03-08', '12-07']"
      ]
     },
     "execution_count": 9,
     "metadata": {},
     "output_type": "execute_result"
    }
   ],
   "source": [
    "def birthday(people):\n",
    "    birthday_list = []\n",
    "    for person in people:\n",
    "        # Write your solution here\n",
    "        birthday_list.append(person[1][:-5])\n",
    "    return birthday_list\n",
    "\n",
    "birthday(people)"
   ]
  },
  {
   "cell_type": "raw",
   "metadata": {},
   "source": [
    "Your program should return ['19-12', '03-08', '12-07']"
   ]
  },
  {
   "cell_type": "markdown",
   "metadata": {},
   "source": [
    "#### Question 4c\n",
    "\n",
    "Now write another function to extract the year of birth and append them to a list. Remember to store them as integer."
   ]
  },
  {
   "cell_type": "code",
   "execution_count": 12,
   "metadata": {},
   "outputs": [
    {
     "data": {
      "text/plain": [
       "[1985, 1992, 1981]"
      ]
     },
     "execution_count": 12,
     "metadata": {},
     "output_type": "execute_result"
    }
   ],
   "source": [
    "def birthyear(people)\n",
    "    birthyear_list = []\n",
    "    # Write your solution here\n",
    "    for person in people:\n",
    "        birthyear_list.append(int(person[1][-4:]))\n",
    "    return birthyear_list\n",
    "\n",
    "birthyear(people)"
   ]
  },
  {
   "cell_type": "raw",
   "metadata": {},
   "source": [
    "Your program should return [1985, 1992, 1981]"
   ]
  },
  {
   "cell_type": "markdown",
   "metadata": {},
   "source": [
    "#### Question 4d\n",
    "\n",
    "Use __del__ and __append()__ to remove the second person (_Maria Raga_) and add a new person to the end of the people list. The new person's information is __['Will Shu', '30-05-1989', 'Go, Javascript, Python', 6000]__\n",
    "\n",
    "_*If you modified the people list incorrectly, run the list in 4a again to restore it_"
   ]
  },
  {
   "cell_type": "code",
   "execution_count": 38,
   "metadata": {},
   "outputs": [
    {
     "data": {
      "text/plain": [
       "[['Nigel Toon', '19-12-1985', 'Python, Javascript, Ruby', 5000],\n",
       " ['Risi Kosla', '12-07-1981', 'Julia, Python, R', 4000],\n",
       " ['Will Shu', '30-05-1989', 'Go, Javascript, Python', 6000]]"
      ]
     },
     "execution_count": 38,
     "metadata": {},
     "output_type": "execute_result"
    }
   ],
   "source": [
    "# Write your solution here\n",
    "new_person = ['Will Shu', '30-05-1989', 'Go, Javascript, Python', 6000]\n",
    "for i in range(len(people)):\n",
    "    if people[i][0] == 'Maria Raga':\n",
    "        del people[i]\n",
    "        people.append(new_person)\n",
    "        \n",
    "people"
   ]
  },
  {
   "cell_type": "raw",
   "metadata": {},
   "source": [
    "Your code should return\n",
    "\n",
    "[['Nigel Toon', '19-12-1985', 'Python, Javascript, Ruby', 5000],\n",
    " ['Risi Kosla', '12-07-1981', 'Julia, Python, R', 4900],\n",
    " ['Will Shu', '30-05-1989', 'Go, Javascript, Python', 6000]]"
   ]
  },
  {
   "cell_type": "markdown",
   "metadata": {},
   "source": [
    "#### Question 4e\n",
    "\n",
    "For each person, use the __split()__ method to split the skills string into a list of skills. So __'Python, Javascript, Ruby'__ should become __['Python', 'Javascript', 'Ruby']__ . Modify the people list directly."
   ]
  },
  {
   "cell_type": "code",
   "execution_count": 39,
   "metadata": {},
   "outputs": [
    {
     "data": {
      "text/plain": [
       "[['Nigel Toon', '19-12-1985', ['Python', 'Javascript', 'Ruby'], 5000],\n",
       " ['Risi Kosla', '12-07-1981', ['Julia', 'Python', 'R'], 4000],\n",
       " ['Will Shu', '30-05-1989', ['Go', 'Javascript', 'Python'], 6000]]"
      ]
     },
     "execution_count": 39,
     "metadata": {},
     "output_type": "execute_result"
    }
   ],
   "source": [
    "def splitskills(people):\n",
    "    for person in people:\n",
    "        person[2] = person[2].split(', ') # Write your solution here\n",
    "        \n",
    "    return people\n",
    "\n",
    "splitskills(people)"
   ]
  },
  {
   "cell_type": "raw",
   "metadata": {},
   "source": [
    "Your program should return\n",
    "\n",
    "[['Nigel Toon', '19-12-1985', ['Python', 'Javascript', 'Ruby'], 5000],\n",
    " ['Risi Kosla', '12-07-1981', ['Julia', 'Python', 'R'], 4000],\n",
    " ['Will Shu', '30-05-1989', ['Go', 'Javascript', 'Python'], 6000]]"
   ]
  },
  {
   "cell_type": "markdown",
   "metadata": {},
   "source": [
    "#### Question 4f (Optional)\n",
    "\n",
    "Write a function to find out the most popular language(s) in the people list"
   ]
  },
  {
   "cell_type": "code",
   "execution_count": 44,
   "metadata": {},
   "outputs": [
    {
     "name": "stdout",
     "output_type": "stream",
     "text": [
      "The most popular language is Python with a total of 3 occurrences\n"
     ]
    }
   ],
   "source": [
    "# Write your solution here\n",
    "languages_count ={}\n",
    "for person in people:\n",
    "    for language in list(person[2]):\n",
    "        if language not in languages_count.keys():\n",
    "            languages_count[language]=1\n",
    "        else:\n",
    "            languages_count[language]+=1\n",
    "\n",
    "highest_count = ('', 0)\n",
    "for key, value in languages_count.items():\n",
    "    if value > highest_count[1]:\n",
    "        highest_count = (key, value)\n",
    "\n",
    "print(f\"The most popular language is {highest_count[0]} with a total of {highest_count[1]} occurrences\")"
   ]
  },
  {
   "cell_type": "markdown",
   "metadata": {},
   "source": [
    "#### Question 5a\n",
    "\n",
    "You are given a list of the 10 latest hockey matches between Finland and Sweden. Each match is a string and the scoreline is at the end.\n",
    "\n",
    "The first match has been retrieved and stored in the variable __first_match__ for you. Let's first use string indexing to get Sweden's and Finland's scores and assign to variables __swe_score__ and __fin_score__. Remember to convert the type."
   ]
  },
  {
   "cell_type": "code",
   "execution_count": 45,
   "metadata": {},
   "outputs": [],
   "source": [
    "hockey = ['Finland - Sweden 5 : 1',\n",
    "          'Finland - Sweden 2 : 1',\n",
    "          'Finland - Sweden 5 : 4',\n",
    "          'Sweden - Finland 2 : 1',\n",
    "          'Finland - Sweden 1 : 3',\n",
    "          'Finland - Sweden 5 : 4',\n",
    "          'Sweden - Finland 4 : 5',\n",
    "          'Finland - Sweden 3 : 2',\n",
    "          'Finland - Sweden 3 : 0',\n",
    "          'Sweden - Finland 1 : 3']"
   ]
  },
  {
   "cell_type": "code",
   "execution_count": 47,
   "metadata": {},
   "outputs": [
    {
     "name": "stdout",
     "output_type": "stream",
     "text": [
      "1\n",
      "5\n"
     ]
    }
   ],
   "source": [
    "first_match = hockey[0]\n",
    "formatted = first_match.split(' ')\n",
    "\n",
    "swe_score = formatted[3] if (formatted[0][0]=='S') else formatted[5]# Finish this line\n",
    "fin_score = formatted[3] if (formatted[0][0]=='F') else formatted[5]# Finish this line\n",
    "\n",
    "print(swe_score)\n",
    "print(fin_score)"
   ]
  },
  {
   "cell_type": "raw",
   "metadata": {},
   "source": [
    "Your code should print 1 and 5"
   ]
  },
  {
   "cell_type": "markdown",
   "metadata": {},
   "source": [
    "#### Question 5b\n",
    "\n",
    "- Check if the variable first_match starts with 'S'.\n",
    "- Also check if it __does not__ end with a space letter ' '\n",
    "\n",
    "You can use the syntax __not__ to negate a conditional check"
   ]
  },
  {
   "cell_type": "code",
   "execution_count": 54,
   "metadata": {},
   "outputs": [
    {
     "name": "stdout",
     "output_type": "stream",
     "text": [
      "False\n",
      "True\n"
     ]
    }
   ],
   "source": [
    "first_match = hockey[0]\n",
    "\n",
    "print(first_match[0]=='S') # Your code goes here\n",
    "print(first_match[-1] != ' ') # Your code goes here"
   ]
  },
  {
   "cell_type": "raw",
   "metadata": {},
   "source": [
    "Your codes should print False and True"
   ]
  },
  {
   "cell_type": "markdown",
   "metadata": {},
   "source": [
    "#### Question 5c\n",
    "\n",
    "Now write a __for__ loop and calculate the number of matches won by Finland and Sweden. Store them in __fin_wins__ and __swe_wins__ respectively.\n",
    "\n",
    "_Try using __if-else__ inside your for loop._"
   ]
  },
  {
   "cell_type": "code",
   "execution_count": 56,
   "metadata": {},
   "outputs": [
    {
     "name": "stdout",
     "output_type": "stream",
     "text": [
      "8\n",
      "2\n"
     ]
    }
   ],
   "source": [
    "fin_wins = 0\n",
    "swe_wins = 0\n",
    "\n",
    "for i in hockey:\n",
    "    # Your solution here\n",
    "    formatted = i.split(' ')\n",
    "    if (formatted[0][0]=='F' and int(formatted[3])> int(formatted[5])\n",
    "        or formatted[2][0]=='F' and int(formatted[5])>int(formatted[3])):\n",
    "        fin_wins+=1\n",
    "    elif(formatted[0][0]=='S' and int(formatted[3])> int(formatted[5])\n",
    "        or formatted[2][0]=='S' and int(formatted[5])>int(formatted[3])):\n",
    "        swe_wins+=1\n",
    "\n",
    "print(fin_wins)\n",
    "print(swe_wins)"
   ]
  },
  {
   "cell_type": "raw",
   "metadata": {},
   "source": [
    "Your codes should print 8 and 2"
   ]
  },
  {
   "cell_type": "markdown",
   "metadata": {},
   "source": [
    "#### Question 5d\n",
    "\n",
    "Create an empty dictionary called __hockey_dict__. Add two keys called 'Finland' and 'Sweden' to hockey_dict and give them values __fin_wins__ and __swe_wins__ respectively."
   ]
  },
  {
   "cell_type": "code",
   "execution_count": 57,
   "metadata": {},
   "outputs": [
    {
     "data": {
      "text/plain": [
       "{'Finland': 8, 'Sweden': 2}"
      ]
     },
     "execution_count": 57,
     "metadata": {},
     "output_type": "execute_result"
    }
   ],
   "source": [
    "fin_wins = 8\n",
    "swe_wins = 2\n",
    "\n",
    "hockey_dict = {'Finland':fin_wins, 'Sweden':swe_wins}\n",
    "# Your solution here\n",
    "\n",
    "hockey_dict"
   ]
  },
  {
   "cell_type": "raw",
   "metadata": {},
   "source": [
    "Your codes should shows {'Finland': 8, 'Sweden': 2}"
   ]
  },
  {
   "cell_type": "markdown",
   "metadata": {},
   "source": [
    "#### Question 5e (Optional)"
   ]
  },
  {
   "cell_type": "code",
   "execution_count": 1,
   "metadata": {},
   "outputs": [
    {
     "name": "stdout",
     "output_type": "stream",
     "text": [
      "a 1\n",
      "b 2\n"
     ]
    }
   ],
   "source": [
    "# In Python you can iterate through each key - value pair of a dictionary using the items() method\n",
    "myDict = {'a': 1, 'b': 2}\n",
    "\n",
    "for key, val in myDict.items():\n",
    "    print(key, val)"
   ]
  },
  {
   "cell_type": "markdown",
   "metadata": {},
   "source": [
    "Swap the key and value of each pair in hockey_dict, and store the results in a new dictionary called __new_dict__. Don't modify hockey_dict."
   ]
  },
  {
   "cell_type": "code",
   "execution_count": 59,
   "metadata": {},
   "outputs": [
    {
     "data": {
      "text/plain": [
       "{8: 'Finland', 2: 'Sweden'}"
      ]
     },
     "execution_count": 59,
     "metadata": {},
     "output_type": "execute_result"
    }
   ],
   "source": [
    "# Your solution here\n",
    "new_dict = {}\n",
    "for key, value in hockey_dict.items():\n",
    "    new_dict[value]=key\n",
    "    \n",
    "new_dict"
   ]
  },
  {
   "cell_type": "raw",
   "metadata": {},
   "source": [
    "Your codes should shows {8: 'Finland', 2: 'Sweden'}"
   ]
  },
  {
   "cell_type": "markdown",
   "metadata": {},
   "source": [
    "# (No Deadline) Part 2. Making a simple message board web app\n",
    "\n",
    "Son Huynh 16.02.2020"
   ]
  },
  {
   "cell_type": "markdown",
   "metadata": {},
   "source": [
    "In this part, you will make a message board where anyone can visit and post messages. The messages are stored in a json file, and only 20 most recent messages are displayed.\n",
    "\n",
    "To start the project:\n",
    "- Create a github account if you haven't.\n",
    "- Search and download Github Desktop and install it, if you don't know git yet.\n",
    "- Download and install PyCharm. It is a great IDE that supports Python project development more easily than Jupyter Notebook.\n",
    "- Go to https://github.com/itistheshortcut/message-board and Fork the project to your account.\n",
    "- Clone the forked project to your computer using Github Desktop.\n",
    "- Create a new project in PyCharm to the cloned directory.\n",
    "- The flask-wtf package is necessary for this project. Open your command line and run _pip install flask-wtf_ to install it. If you know and want to use environment, use the requirements.txt file to install necessary packages."
   ]
  },
  {
   "cell_type": "markdown",
   "metadata": {},
   "source": [
    "Working on the project:\n",
    "- Study the code structure\n",
    "- The file func.py contains the functions that you need to complete. You don't have to edit any other file.\n",
    "- After finishing the tasks in func.py, you may want to suggest improvements / new ideas to other parts of the project. Feel free to do it.\n",
    "- I will host the project on heroku so that we can have public address to access the app. If you want to contribute, make a pull request and we can discuss merging your codes with ours.\n",
    "- If you decide to make a pull request, please make it on the branch _students_ , not the _master_ branch."
   ]
  },
  {
   "cell_type": "markdown",
   "metadata": {},
   "source": [
    "# (Optional) Part 3. Data analysis Project\n",
    "\n",
    "Rohan Chauhan 31.01.2020"
   ]
  },
  {
   "cell_type": "markdown",
   "metadata": {},
   "source": [
    "### Find the Source\n",
    "\n",
    "In this project, you are given a data drawn from 2 different data distributions. A distribution is simply a collection of data generated from mathematical function. Your task is to compute statistics on the data as instructed. \n",
    "\n",
    "This project shows the importance of data visualisation and helps you get acquainted with common statistical terms. We will later revisit these concepts in more details. The last cell contains the answer so please run it after only you have filled the dummy functions."
   ]
  },
  {
   "cell_type": "markdown",
   "metadata": {},
   "source": [
    "#### Dataset"
   ]
  },
  {
   "cell_type": "code",
   "execution_count": null,
   "metadata": {
    "collapsed": true
   },
   "outputs": [],
   "source": [
    "dataset1 = [ 1.73049833,  3.16340596,  1.21930359,  1.5029476 ,  0.69110965,\n",
    "        2.93648674,  2.62440949,  1.54528647,  3.58887188,  3.18380738,\n",
    "        2.55990674,  2.05009547,  2.03113776,  2.06070178,  0.89850879,\n",
    "        0.14055612,  1.64131415,  1.40644386,  1.97961567,  1.7134667 ,\n",
    "        1.93914261,  1.6107687 ,  2.1130443 ,  1.64320953,  1.36004235,\n",
    "        0.52823991,  1.06624674,  1.18013299,  0.70291825,  1.80131332,\n",
    "        1.23469061,  1.81629669,  1.91308798, -0.30391249,  1.61508023,\n",
    "        0.49283794,  0.28347068,  2.46030036,  2.06588227,  1.22723865,\n",
    "        1.26177711,  1.07803484,  1.49732007,  0.7060736 ,  2.88047108,\n",
    "        4.07623408,  2.24813023,  1.56994666,  3.78391918,  2.54529365,\n",
    "        3.0413789 ,  1.91137895,  2.32664257,  1.21925279,  1.05704651,\n",
    "        3.647802  ,  0.39692755,  1.00646629,  2.55710176,  2.41277613,\n",
    "        1.41509039,  1.80594394,  1.21779377,  2.12852021,  1.43657629,\n",
    "        3.30973311,  3.79322815,  2.58804807,  2.91591305,  2.96505483,\n",
    "        2.35430297,  2.70942161,  1.82967958,  0.14778662,  0.952541  ,\n",
    "        1.89683515,  3.54035242,  3.80492858,  1.0796531 ,  1.12173616,\n",
    "        1.69417786,  3.34199288,  1.98627202,  2.31094176,  2.79080661,\n",
    "        2.52780201,  1.8476487 , -0.6185176 ,  0.97077974,  1.31385849,\n",
    "        4.28521278,  1.54735237,  2.74746425, -0.01294304,  1.74791951,\n",
    "       -0.05436274,  1.65665388,  0.4609585 ,  1.50969895,  0.7468063 ,\n",
    "        2.39907196,  0.93198886,  2.50870862,  3.09629204,  3.42395867,\n",
    "        1.28207605,  2.04672666,  1.20111734,  1.49695089,  2.98321689,\n",
    "        0.31951499,  1.84607056,  3.27121947,  2.1743864 ,  2.84245751,\n",
    "        2.83020288,  2.79634721,  2.13901031,  3.26400165,  0.92733006,\n",
    "        2.10308617,  2.88229721,  0.90602793,  2.01410581,  1.31184113,\n",
    "        0.20247289,  4.28284375,  4.30055656,  3.68528125,  2.57561657,\n",
    "        1.94153502,  3.85454854,  1.75719345,  2.25997528,  2.74302387,\n",
    "        2.91003943,  2.57705023,  1.67309322,  1.8427245 ,  2.29738901,\n",
    "        2.53549106,  1.50031635,  0.45956327,  1.22323107,  3.14286559,\n",
    "        1.4951847 ,  1.03929673,  1.66309881,  3.04395648,  2.80013177,\n",
    "       -0.68213198,  2.58430914,  1.56179443,  3.72942074,  1.42680765,\n",
    "        2.18055137,  2.70864674,  1.90682127,  1.28383646,  2.04833717,\n",
    "        1.37870173,  1.50584002,  2.60793369,  2.61387084,  2.28990034,\n",
    "        2.28258904,  2.67737577,  1.89260921,  2.39548876,  1.44545231,\n",
    "        5.05262673,  2.84574122,  2.37056748,  2.16657305,  2.70112206,\n",
    "        2.9801766 ,  2.46694935,  1.49355166,  2.75938043,  2.94272634,\n",
    "        1.7633412 ,  1.50082201,  1.62000773,  1.06739629,  3.42626921,\n",
    "        1.52886165,  2.50092508,  2.64672553,  3.06969148,  1.64790296,\n",
    "        2.90220533,  0.40259862,  2.70344742,  2.50933544,  2.05149022,\n",
    "        1.00331271,  2.29029397,  1.59154726,  1.73538108,  1.59803476,\n",
    "        1.66811959,  1.93572822,  0.94363607,  2.37055462,  2.5206578 ,\n",
    "        1.84592197,  2.61320561,  3.04371288,  2.93687468,  0.8217065 ,\n",
    "        1.45439802,  1.77145852,  1.96535226,  2.91380186,  1.19323938,\n",
    "        1.87576367,  2.19408004,  0.67896932,  1.16472535,  1.44872148,\n",
    "        3.31486715,  1.42161901, -0.09322156,  3.02276218,  0.82621628,\n",
    "        1.73712939,  5.42886818,  3.38804353,  2.58671068,  1.31535976,\n",
    "        2.172413  ,  1.33892449,  0.54736051,  0.67603475,  1.086884  ,\n",
    "        0.73851457,  2.50268458,  3.39355574,  1.83373409,  1.42992322,\n",
    "        1.91491771,  2.44616186,  0.15245052,  3.04332644,  1.7576358 ,\n",
    "        2.06619027,  4.24304517,  2.04655547,  2.00434411,  1.47639611,\n",
    "        3.13685621,  1.64399822,  1.4241914 ,  1.4841748 ,  1.42711537,\n",
    "        1.72128247,  2.9950175 ,  1.34425991,  0.89874752,  2.71097456,\n",
    "        1.36321134,  1.24595184,  1.63890608,  2.53557454,  0.24048817,\n",
    "        3.01139656,  2.58790624,  1.54204139,  2.73879431,  1.97410371,\n",
    "        1.47924728,  0.80154821,  2.05076053,  1.14468976,  2.31168129,\n",
    "        2.65805165,  2.87819317,  3.6277802 ,  1.88154814,  2.41333862,\n",
    "        1.58254084,  2.9039947 ,  2.08244347,  1.25196007,  0.08939587,\n",
    "        0.56954856,  1.16851234,  2.6742309 ,  2.33796803, -0.41209027,\n",
    "        2.79726326,  1.27798411,  2.95444682,  1.47938975,  2.77529806,\n",
    "        0.67129255,  1.64755334,  0.66251453,  1.83996309,  2.58104993,\n",
    "        0.08993853,  3.47012816,  2.89133399,  1.64947304,  2.89147519,\n",
    "        1.80743396,  1.49567002,  3.27260366,  3.60636431,  2.76700821,\n",
    "        1.48138865,  2.51335989,  1.54464328,  2.58954097,  2.40169521,\n",
    "        4.24870365,  0.40812038,  1.89148292,  0.86998864,  2.73100934,\n",
    "        2.25577847,  2.32395488,  2.98691781, -0.15344587,  3.01808029,\n",
    "        2.14010795,  2.66027069,  2.96055924,  2.25961335,  1.15801315,\n",
    "        1.89723859,  0.27065445,  1.22175353, -0.33300358,  1.79403361,\n",
    "        2.80458075,  1.28421217,  1.71043582,  3.49210681,  2.34958649,\n",
    "        2.35164608,  2.84605575,  1.61833196,  3.96995187,  2.3519885 ,\n",
    "        2.28953179,  1.66899717,  3.033471  ,  0.93230439,  1.73654536,\n",
    "        1.54244773,  1.91186596,  2.1050693 ,  1.74129911,  0.89094775,\n",
    "        4.16639351,  1.50289071, -0.25579664,  2.18127761,  1.78052548,\n",
    "        0.8388624 ,  3.15511037,  3.50183955,  1.85085205,  1.0031552 ,\n",
    "        1.45517147,  1.65486153,  2.49062454,  2.02567157,  2.32153608,\n",
    "        0.76786398,  3.47931499,  1.97618144,  1.98614042,  4.1787194 ,\n",
    "        3.54811558,  1.53501143,  0.63980518,  1.59125385,  2.14627878,\n",
    "        1.80664813,  2.27798964,  2.14687167,  2.35480217,  0.10764131,\n",
    "        2.01559365,  1.09956369,  2.54377173,  3.45353317,  2.13868116,\n",
    "        1.52366428, -0.61540552,  1.12172242,  1.82486421,  2.08797609,\n",
    "        2.1230855 ,  2.40639244,  1.66305455,  2.72798423,  3.36141424,\n",
    "        3.01783335,  0.57201648,  3.78136796, -1.0996199 ,  1.84943319,\n",
    "        2.27913513,  2.49084195,  2.41365451,  1.59208762,  2.65705544,\n",
    "        0.56973748,  2.0993705 ,  3.28061352,  1.76968559,  3.95600626,\n",
    "        2.24166302,  2.0413879 ,  2.13381259,  1.49947214,  0.97020166,\n",
    "        0.50191612,  4.77929733,  3.11602523,  2.8063269 ,  1.64792338,\n",
    "        3.28601646,  2.14058789,  2.38500868,  1.43203455,  3.48372845,\n",
    "        2.51112955,  1.1750257 ,  2.02969402,  3.04385396,  6.01389877,\n",
    "        2.48032707,  2.95059958,  1.69916811,  1.51274328,  3.31068669,\n",
    "        2.69158458,  0.21321469,  2.18253713,  2.38565387,  2.11687329,\n",
    "        2.82622651,  2.13748913,  3.15817295,  2.31346761,  4.24695211,\n",
    "        0.95440574,  1.03462604,  2.87551296,  1.19635602,  1.63753647,\n",
    "        3.21518057,  1.7209345 ,  1.15065405,  1.44541934,  1.96361533,\n",
    "        2.58365438,  1.9490815 ,  2.748703  ,  1.96124926,  1.92825884,\n",
    "        2.06998723,  2.17357006, -0.04463443,  1.77473625, -0.06455286,\n",
    "        2.08113982,  3.2332557 ,  1.12589933,  1.98944093,  1.30867773,\n",
    "        0.9826485 ,  3.46065166,  2.62271486,  2.71149269,  1.50742869,\n",
    "        3.17587003,  1.61315999,  1.87974883,  2.15106584,  1.62271148,\n",
    "        2.43415784,  3.01429531,  1.12018185,  1.81524425,  2.00814823,\n",
    "        2.86779199,  2.53003111,  1.07008046,  4.20785348,  2.06158235,\n",
    "        0.87972677,  1.2152882 ,  1.30648695,  2.4866568 ,  2.99326105]\n",
    "\n",
    "dataset2 = [2.12541841, 1.09248225, 1.4637676 , 2.05220044, 2.04566394,\n",
    "       1.14416956, 1.55092687, 2.89401668, 2.97813881, 2.27217908,\n",
    "       1.51654557, 1.46443679, 2.97768952, 2.82744375, 2.90708137,\n",
    "       2.06730431, 2.93734173, 1.18758663, 1.67462274, 1.03118463,\n",
    "       2.5555464 , 1.38022396, 2.4150094 , 1.55276095, 1.36547706,\n",
    "       2.29620256, 1.82078706, 2.47008638, 2.73332975, 1.2769658 ,\n",
    "       2.34023459, 1.42137225, 1.35490085, 2.22427483, 2.2920669 ,\n",
    "       1.91286799, 1.80697206, 1.55381144, 1.82461124, 2.78383429,\n",
    "       2.78853451, 2.94076747, 2.32644793, 1.9565591 , 2.1523229 ,\n",
    "       1.88051315, 2.81532057, 1.32096231, 2.79549643, 1.88762725,\n",
    "       2.21405956, 1.41487525, 1.50258689, 2.72138574, 2.35048921,\n",
    "       2.64329212, 1.33069194, 1.46720977, 1.05854278, 1.32676554,\n",
    "       2.57388344, 1.57423371, 2.61949624, 1.04531997, 2.88790066,\n",
    "       1.91363614, 1.31815751, 1.81617867, 1.04369011, 1.06736434,\n",
    "       1.40095403, 2.56539475, 1.49345184, 2.75935178, 1.33110483,\n",
    "       2.71077162, 2.30369531, 2.04864997, 2.8959674 , 2.70541501,\n",
    "       2.45848872, 2.42436937, 1.20572428, 2.74733954, 1.00636664,\n",
    "       1.38310611, 2.25370978, 1.76970883, 2.4460597 , 2.68052896,\n",
    "       2.42016081, 1.43411373, 2.65903522, 1.72205936, 1.37846459,\n",
    "       1.54591988, 2.20907424, 1.56318441, 2.07126405, 2.72475505,\n",
    "       2.6907852 , 2.73604006, 1.21048001, 1.034618  , 1.4464902 ,\n",
    "       1.40948703, 1.0040977 , 1.32758492, 2.45538516, 2.74967808,\n",
    "       2.71466122, 1.70788101, 2.29475981, 2.77892499, 2.17467735,\n",
    "       1.25201041, 1.36846583, 2.46403686, 2.24554607, 2.57135824,\n",
    "       1.69326807, 2.69276239, 1.48268823, 1.87494887, 2.486973  ,\n",
    "       2.80395531, 2.68801731, 2.81215439, 1.30905995, 1.87142447,\n",
    "       1.87561587, 1.41881059, 2.22278579, 2.93813538, 2.05348232,\n",
    "       2.22026476, 2.54118204, 2.7404185 , 2.4016218 , 1.98624204,\n",
    "       2.25983417, 2.38861885, 1.44413523, 1.18281027, 1.09951421,\n",
    "       1.35432065, 2.20569026, 2.92092481, 2.49888928, 1.97432501,\n",
    "       1.57065404, 2.59672046, 1.58383963, 2.88435178, 2.64118062,\n",
    "       1.34142296, 1.59679398, 2.03375738, 2.44310761, 2.9266369 ,\n",
    "       2.54243299, 2.17893342, 1.62254328, 2.72591932, 2.44157051,\n",
    "       2.19046611, 2.96304973, 1.86686782, 2.10865545, 1.20785191,\n",
    "       2.85862339, 2.33654276, 1.3718625 , 1.8291676 , 1.88657264,\n",
    "       1.9459218 , 1.09821578, 1.14070853, 2.08320758, 2.1334733 ,\n",
    "       1.65593328, 2.17227992, 1.22091234, 2.61705883, 2.90458573,\n",
    "       2.88921807, 2.80111802, 1.94684191, 2.73045611, 2.34014626,\n",
    "       1.69039751, 2.78829798, 1.8305657 , 1.30424568, 1.68256999,\n",
    "       2.1351048 , 2.952759  , 1.26235693, 1.97501072, 1.90813044,\n",
    "       2.53306334, 2.31067728, 2.15751079, 1.13216133, 1.39477002,\n",
    "       1.47437777, 1.17958383, 2.04994854, 1.19396931, 1.36673927,\n",
    "       2.05281128, 1.29819996, 2.9397953 , 1.63718955, 1.48217599,\n",
    "       2.69660961, 1.41600037, 2.39622508, 1.00471839, 2.51975434,\n",
    "       1.78735073, 2.05436613, 1.22727068, 1.19918389, 2.81328843,\n",
    "       1.64218011, 2.99774491, 2.98550175, 1.07567372, 2.95480366,\n",
    "       2.31375223, 2.30239277, 2.98218905, 2.75628804, 1.14729086,\n",
    "       1.30304532, 2.439127  , 2.8073436 , 1.25007829, 1.56119986,\n",
    "       2.5018975 , 2.01487407, 2.40385468, 2.08941597, 1.72605172,\n",
    "       2.22257319, 1.20248542, 1.64132172, 2.61154517, 2.13690401,\n",
    "       1.63196002, 1.44827526, 1.71994887, 1.32608922, 2.77469728,\n",
    "       1.23992649, 1.81945715, 1.11400136, 1.88297889, 2.21590287,\n",
    "       2.39168382, 2.75905108, 2.11426212, 1.4210034 , 1.89359447,\n",
    "       1.70503069, 2.98395661, 1.32570121, 1.55053735, 1.00156095,\n",
    "       1.93938806, 2.21084514, 1.27748739, 1.84333193, 1.92347934,\n",
    "       2.00571526, 1.27725341, 1.42038979, 2.67336532, 1.19598675,\n",
    "       1.14347171, 1.63585283, 1.30933046, 2.82661552, 2.69632339,\n",
    "       2.63536364, 2.05096453, 1.06709912, 1.8678352 , 2.50769946,\n",
    "       2.59740682, 2.5077679 , 1.51258638, 1.3595343 , 2.0783981 ,\n",
    "       2.77417556, 1.35834908, 2.03275505, 2.81100799, 1.83667762,\n",
    "       1.30288273, 1.71380034, 2.83431868, 2.4613779 , 1.2294086 ,\n",
    "       1.15197174, 1.40467675, 1.97954061, 2.07023448, 2.5059795 ,\n",
    "       1.24558369, 2.80176043, 2.62702587, 1.55971887, 2.27371466,\n",
    "       1.98068653, 2.94216884, 1.65896942, 2.26814912, 2.80728328,\n",
    "       2.41748646, 1.08666622, 2.26462818, 2.53538696, 2.49190821,\n",
    "       1.28662295, 2.91765517, 2.97703202, 1.1349863 , 1.65252049,\n",
    "       2.24684925, 1.73886816, 2.69064339, 2.45551486, 2.30118302,\n",
    "       1.41242045, 1.10294511, 2.89616907, 1.80430879, 1.49877096,\n",
    "       2.2210615 , 2.61531864, 2.39120132, 1.28556981, 2.10788865,\n",
    "       1.64955175, 1.16790804, 1.86501439, 1.4710262 , 2.38926475,\n",
    "       2.27243659, 1.22073652, 1.10888497, 1.58733496, 1.91513147,\n",
    "       1.68070813, 1.02775571, 2.37571742, 1.42930669, 2.06823559,\n",
    "       1.701509  , 1.49531663, 1.67566119, 2.24507157, 1.67027938,\n",
    "       1.57909687, 2.07533171, 2.46375347, 1.79501198, 2.19452655,\n",
    "       1.50392179, 2.07434057, 1.24813905, 2.81757806, 1.50759803,\n",
    "       2.14105482, 1.6455525 , 2.353224  , 2.87127099, 1.3195552 ,\n",
    "       2.93134298, 1.02149592, 2.82297612, 2.1901661 , 2.96997815,\n",
    "       2.15933667, 1.37641755, 1.72124015, 2.76632868, 1.68497789,\n",
    "       2.33132108, 1.81785374, 1.66291624, 2.78972579, 1.25111575,\n",
    "       1.24446209, 1.6459327 , 2.27819189, 2.00585382, 1.89637142,\n",
    "       1.70853379, 1.27574639, 2.5073519 , 1.73033286, 2.45461854,\n",
    "       1.39903051, 2.79882243, 1.73773552, 1.3971495 , 1.17122418,\n",
    "       1.87858309, 2.92685212, 1.27414473, 1.09045854, 2.78783838,\n",
    "       2.33489332, 1.94843867, 1.38167489, 1.58428124, 1.1495266 ,\n",
    "       1.72940664, 2.36327207, 2.69528414, 1.88921404, 2.91572905,\n",
    "       2.26269867, 2.60790981, 2.97408762, 2.7683655 , 2.18567167,\n",
    "       1.06965041, 1.04299733, 2.76042412, 1.35946899, 2.08980696,\n",
    "       2.34208853, 1.19511626, 1.09107329, 1.85516611, 1.60180781,\n",
    "       1.75087999, 1.03167594, 1.66740401, 2.91918617, 1.48473681,\n",
    "       1.64907172, 2.36233096, 2.72991582, 2.51062235, 1.98964148,\n",
    "       2.34663015, 2.71759929, 1.352881  , 1.86078524, 2.46536384,\n",
    "       1.01603133, 2.34665148, 2.0452716 , 1.46744968, 2.51058879,\n",
    "       2.23861709, 1.91194085, 1.27750171, 1.82432593, 1.9243928 ,\n",
    "       2.9431506 , 2.6561917 , 2.04425816, 1.85156493, 1.89572825,\n",
    "       1.95675945, 2.43018263, 1.14637965, 1.09028832, 2.48828147,\n",
    "       2.25328076, 1.85181023, 1.9971708 , 2.85007952, 2.72442373,\n",
    "       1.47038762, 2.61443102, 2.88806708, 1.59081096, 1.79749678,\n",
    "       1.23522148, 2.65739566, 2.56486867, 2.86779072, 1.07615045,\n",
    "       2.40856092, 2.40584629, 1.10518944, 1.46180991, 2.14294848,\n",
    "       2.52590255, 2.87488897, 1.80666888, 2.76695243, 2.21671648]"
   ]
  },
  {
   "cell_type": "markdown",
   "metadata": {},
   "source": [
    "#### Mean, Median and Mode"
   ]
  },
  {
   "cell_type": "markdown",
   "metadata": {},
   "source": [
    "Understand and find out the formula for mean, median and mode from Google."
   ]
  },
  {
   "cell_type": "code",
   "execution_count": null,
   "metadata": {
    "collapsed": true
   },
   "outputs": [],
   "source": [
    "def pmean(list_of_values):\n",
    "    '''\n",
    "    Returns the mean of values\n",
    "    Input: List\n",
    "    Output: Float\n",
    "    '''\n",
    "    \n",
    "    return\n",
    "\n",
    "def pmedian(list_of_values):\n",
    "    '''\n",
    "    Returns the median of values\n",
    "    Input: List\n",
    "    Output: Float\n",
    "    '''\n",
    "    \n",
    "    return\n",
    "\n",
    "def pmaxmode(list_of_values):\n",
    "    '''\n",
    "    Returns the maximum of all mode of values\n",
    "    Input: List\n",
    "    Output: Float\n",
    "    '''\n",
    "    \n",
    "    return"
   ]
  },
  {
   "cell_type": "markdown",
   "metadata": {},
   "source": [
    "#### Variance and Standard Deviation"
   ]
  },
  {
   "cell_type": "code",
   "execution_count": null,
   "metadata": {
    "collapsed": true
   },
   "outputs": [],
   "source": [
    "def pvar(list_of_values):\n",
    "    '''\n",
    "    Returns the variance of values\n",
    "    Input: List\n",
    "    Output: Float\n",
    "    '''\n",
    "    \n",
    "    return\n",
    "\n",
    "def pstd(list_of_values):\n",
    "    '''\n",
    "    Returns the standard deviation of values\n",
    "    Input: List\n",
    "    Output: Float\n",
    "    '''\n",
    "    \n",
    "    return"
   ]
  },
  {
   "cell_type": "markdown",
   "metadata": {},
   "source": [
    "#### Summarize the statistics for dataset1 and dataset2\n",
    "Can you tell anything about the distributions from which the dataset is produced with the help of these statistics ?"
   ]
  },
  {
   "cell_type": "code",
   "execution_count": null,
   "metadata": {
    "collapsed": true,
    "scrolled": true
   },
   "outputs": [],
   "source": [
    "print('****    DATASET 1    ****')\n",
    "print('Mean = '+str(pmean(dataset1)))\n",
    "print('Median = '+str(pmedian(dataset1)))\n",
    "print('Mode = '+str(pmaxmode(dataset1)))\n",
    "print('Variance = '+str(pvar(dataset1)))\n",
    "print('Standard Deviation = '+str(pstd(dataset1)))\n",
    "\n",
    "print('\\n\\n------------------------\\n\\n')\n",
    "\n",
    "print('****    DATASET 2    ****')\n",
    "print('Mean = '+str(pmean(dataset2)))\n",
    "print('Median = '+str(pmedian(dataset2)))\n",
    "print('Mode = '+str(pmaxmode(dataset2)))\n",
    "print('Variance = '+str(pvar(dataset2)))\n",
    "print('Standard Deviation = '+str(pstd(dataset2)))"
   ]
  },
  {
   "cell_type": "markdown",
   "metadata": {},
   "source": [
    "### Why Visualisation is important?"
   ]
  },
  {
   "cell_type": "markdown",
   "metadata": {},
   "source": [
    "Can you tell anything about the distributions from which the dataset is produced with the help of these visualisations ? If you have never seen distributions check this out and try to find out the right one. <br/>\n",
    "https://www.itl.nist.gov/div898/handbook/eda/section3/eda366.htm"
   ]
  },
  {
   "cell_type": "code",
   "execution_count": null,
   "metadata": {
    "collapsed": true
   },
   "outputs": [],
   "source": [
    "## Delete this line to run the code ##\n",
    "\n",
    "import matplotlib.pyplot as plt\n",
    "fig, (ax1, ax2) = plt.subplots(1, 2,figsize=(10,4))\n",
    "ax1.hist(dataset1, 20, density=True)\n",
    "ax1.set_title('Distribution 1')\n",
    "ax2.hist(dataset2, 20, density=True)\n",
    "ax2.set_title('Distribution 2')\n",
    "plt.show()"
   ]
  },
  {
   "cell_type": "markdown",
   "metadata": {},
   "source": [
    "#### Advanced Level Question: Can you verify the central limit theorem using Dataset 2? (Optional)"
   ]
  },
  {
   "cell_type": "code",
   "execution_count": null,
   "metadata": {
    "collapsed": true
   },
   "outputs": [],
   "source": []
  }
 ],
 "metadata": {
  "kernelspec": {
   "display_name": "Python 3",
   "language": "python",
   "name": "python3"
  },
  "language_info": {
   "codemirror_mode": {
    "name": "ipython",
    "version": 3
   },
   "file_extension": ".py",
   "mimetype": "text/x-python",
   "name": "python",
   "nbconvert_exporter": "python",
   "pygments_lexer": "ipython3",
   "version": "3.7.3"
  }
 },
 "nbformat": 4,
 "nbformat_minor": 2
}
