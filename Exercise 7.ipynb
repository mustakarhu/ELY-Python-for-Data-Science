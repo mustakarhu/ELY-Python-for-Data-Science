{
 "cells": [
  {
   "cell_type": "markdown",
   "metadata": {},
   "source": [
    "# Filtering, String Methods, Grouping and Visualizing Data\n",
    "\n",
    "Son Huynh\n",
    "31.01.2020"
   ]
  },
  {
   "cell_type": "markdown",
   "metadata": {},
   "source": [
    "Deadline: **11:59pm 28.02** (Friday)\n",
    "\n",
    "Submit link: https://www.dropbox.com/request/ZvBWoQUCy8pwRVxQxwJx"
   ]
  },
  {
   "cell_type": "code",
   "execution_count": 1,
   "metadata": {},
   "outputs": [],
   "source": [
    "%matplotlib inline\n",
    "\n",
    "import numpy as np\n",
    "import pandas as pd\n",
    "import matplotlib.pyplot as plt\n",
    "import seaborn as sns"
   ]
  },
  {
   "cell_type": "code",
   "execution_count": 4,
   "metadata": {
    "scrolled": false
   },
   "outputs": [
    {
     "data": {
      "text/html": [
       "<div>\n",
       "<style scoped>\n",
       "    .dataframe tbody tr th:only-of-type {\n",
       "        vertical-align: middle;\n",
       "    }\n",
       "\n",
       "    .dataframe tbody tr th {\n",
       "        vertical-align: top;\n",
       "    }\n",
       "\n",
       "    .dataframe thead th {\n",
       "        text-align: right;\n",
       "    }\n",
       "</style>\n",
       "<table border=\"1\" class=\"dataframe\">\n",
       "  <thead>\n",
       "    <tr style=\"text-align: right;\">\n",
       "      <th></th>\n",
       "      <th>Make</th>\n",
       "      <th>Type</th>\n",
       "      <th>Model</th>\n",
       "      <th>Origin</th>\n",
       "      <th>DriveTrain</th>\n",
       "      <th>MSRP</th>\n",
       "      <th>EngineSize</th>\n",
       "      <th>Cylinders</th>\n",
       "      <th>Horsepower</th>\n",
       "      <th>MPG_City</th>\n",
       "      <th>MPG_Highway</th>\n",
       "      <th>Weight</th>\n",
       "      <th>Wheelbase</th>\n",
       "      <th>Length</th>\n",
       "    </tr>\n",
       "  </thead>\n",
       "  <tbody>\n",
       "    <tr>\n",
       "      <td>0</td>\n",
       "      <td>Acura</td>\n",
       "      <td>SUV</td>\n",
       "      <td>MDX</td>\n",
       "      <td>Asia</td>\n",
       "      <td>All</td>\n",
       "      <td>36945</td>\n",
       "      <td>3.5</td>\n",
       "      <td>6.0</td>\n",
       "      <td>265</td>\n",
       "      <td>17</td>\n",
       "      <td>23</td>\n",
       "      <td>4451.0</td>\n",
       "      <td>106.0</td>\n",
       "      <td>189.0</td>\n",
       "    </tr>\n",
       "    <tr>\n",
       "      <td>1</td>\n",
       "      <td>Acura</td>\n",
       "      <td>Sedan</td>\n",
       "      <td>RSX Type S 2dr</td>\n",
       "      <td>Asia</td>\n",
       "      <td>Front</td>\n",
       "      <td>23820</td>\n",
       "      <td>2.0</td>\n",
       "      <td>4.0</td>\n",
       "      <td>200</td>\n",
       "      <td>24</td>\n",
       "      <td>31</td>\n",
       "      <td>2778.0</td>\n",
       "      <td>101.0</td>\n",
       "      <td>172.0</td>\n",
       "    </tr>\n",
       "    <tr>\n",
       "      <td>2</td>\n",
       "      <td>Acura</td>\n",
       "      <td>Sedan</td>\n",
       "      <td>TSX 4dr</td>\n",
       "      <td>Asia</td>\n",
       "      <td>Front</td>\n",
       "      <td>26990</td>\n",
       "      <td>2.4</td>\n",
       "      <td>4.0</td>\n",
       "      <td>200</td>\n",
       "      <td>22</td>\n",
       "      <td>29</td>\n",
       "      <td>3230.0</td>\n",
       "      <td>105.0</td>\n",
       "      <td>183.0</td>\n",
       "    </tr>\n",
       "  </tbody>\n",
       "</table>\n",
       "</div>"
      ],
      "text/plain": [
       "    Make   Type           Model Origin DriveTrain   MSRP  EngineSize  \\\n",
       "0  Acura    SUV             MDX   Asia        All  36945         3.5   \n",
       "1  Acura  Sedan  RSX Type S 2dr   Asia      Front  23820         2.0   \n",
       "2  Acura  Sedan         TSX 4dr   Asia      Front  26990         2.4   \n",
       "\n",
       "   Cylinders  Horsepower  MPG_City  MPG_Highway  Weight  Wheelbase  Length  \n",
       "0        6.0         265        17           23  4451.0      106.0   189.0  \n",
       "1        4.0         200        24           31  2778.0      101.0   172.0  \n",
       "2        4.0         200        22           29  3230.0      105.0   183.0  "
      ]
     },
     "execution_count": 4,
     "metadata": {},
     "output_type": "execute_result"
    }
   ],
   "source": [
    "cars = pd.read_csv('cars.csv')\n",
    "\n",
    "# remove dollar sign and convert text to number\n",
    "cars.MSRP = cars.MSRP.str.replace('$', '')\n",
    "cars.MSRP = cars.MSRP.astype(int)\n",
    "\n",
    "cars.columns = cars.columns.str.replace(' ', '') # remove white space in column name\n",
    "\n",
    "cars.head(3)"
   ]
  },
  {
   "cell_type": "markdown",
   "metadata": {},
   "source": [
    "### Filtering"
   ]
  },
  {
   "cell_type": "code",
   "execution_count": null,
   "metadata": {
    "collapsed": true
   },
   "outputs": [],
   "source": [
    "# Select cars with Weight bigger than 6000 OR smaller than 2000"
   ]
  },
  {
   "cell_type": "code",
   "execution_count": null,
   "metadata": {
    "collapsed": true
   },
   "outputs": [],
   "source": [
    "# Select cars that have 8 to 12 cylinders"
   ]
  },
  {
   "cell_type": "code",
   "execution_count": null,
   "metadata": {
    "collapsed": true
   },
   "outputs": [],
   "source": [
    "# Select Mazda and Honda cars with Length longer than 180 inches"
   ]
  },
  {
   "cell_type": "code",
   "execution_count": null,
   "metadata": {
    "collapsed": true
   },
   "outputs": [],
   "source": [
    "# Select all except cars of sedan type"
   ]
  },
  {
   "cell_type": "code",
   "execution_count": null,
   "metadata": {
    "collapsed": true
   },
   "outputs": [],
   "source": [
    "# Select only Lexus cars, then calculate the percentage of SUVs among Lexus cars (try using loc)"
   ]
  },
  {
   "cell_type": "markdown",
   "metadata": {},
   "source": [
    "### String Methods"
   ]
  },
  {
   "cell_type": "code",
   "execution_count": null,
   "metadata": {
    "collapsed": true,
    "scrolled": true
   },
   "outputs": [],
   "source": [
    "# Select cars containing 'convertible' in the model name"
   ]
  },
  {
   "cell_type": "code",
   "execution_count": null,
   "metadata": {
    "collapsed": true
   },
   "outputs": [],
   "source": [
    "# Select cars where the model name ends with 2dr"
   ]
  },
  {
   "cell_type": "code",
   "execution_count": null,
   "metadata": {
    "collapsed": true,
    "scrolled": true
   },
   "outputs": [],
   "source": [
    "# Select cars where the model name has more than 4 words. Hint: words are separated by space."
   ]
  },
  {
   "cell_type": "code",
   "execution_count": null,
   "metadata": {
    "collapsed": true
   },
   "outputs": [],
   "source": [
    "# Change the strings in the Model column to uppercase. Modify the Model column directly."
   ]
  },
  {
   "cell_type": "markdown",
   "metadata": {},
   "source": [
    "### Groupby"
   ]
  },
  {
   "cell_type": "code",
   "execution_count": null,
   "metadata": {
    "collapsed": true
   },
   "outputs": [],
   "source": [
    "# Group the data by Origin and calculate the mean for all columns"
   ]
  },
  {
   "cell_type": "code",
   "execution_count": null,
   "metadata": {
    "collapsed": true
   },
   "outputs": [],
   "source": [
    "# Group the data by Make and then by Type. What's the cheapest price for a Volvo's SUV?"
   ]
  },
  {
   "cell_type": "code",
   "execution_count": null,
   "metadata": {
    "collapsed": true
   },
   "outputs": [],
   "source": [
    "# Are Audi cars heavier than the rest of car brands on average?"
   ]
  },
  {
   "cell_type": "code",
   "execution_count": null,
   "metadata": {},
   "outputs": [],
   "source": [
    "# "
   ]
  },
  {
   "cell_type": "markdown",
   "metadata": {},
   "source": [
    "### (Optional) Visualization"
   ]
  },
  {
   "cell_type": "code",
   "execution_count": 35,
   "metadata": {},
   "outputs": [],
   "source": [
    "# Use seaborn's violinplot() to plot MSRP by Origin. What can you comment about it?"
   ]
  },
  {
   "cell_type": "code",
   "execution_count": 3,
   "metadata": {},
   "outputs": [],
   "source": [
    "# Use seaborn's heatmap to plot the correlation matrix of cars"
   ]
  },
  {
   "cell_type": "code",
   "execution_count": 36,
   "metadata": {},
   "outputs": [],
   "source": [
    "# Use seaborn's lmplot to plot a regression line for Weight and MPG_City. \n",
    "# Can you spot a linear relationship?"
   ]
  },
  {
   "cell_type": "markdown",
   "metadata": {},
   "source": [
    "Read more about linear regression:\n",
    "https://towardsdatascience.com/linear-regression-understanding-the-theory-7e53ac2831b5"
   ]
  },
  {
   "cell_type": "code",
   "execution_count": 39,
   "metadata": {},
   "outputs": [],
   "source": [
    "# Recreate this donut chart.\n",
    "# You can use plot(kind='pie') to create the chart as an ax. Then use plt.Circle() to create a white circle.\n",
    "# Finally you can use add_artist() to add the circle to the ax."
   ]
  },
  {
   "cell_type": "markdown",
   "metadata": {},
   "source": [
    "![title](pie.png)"
   ]
  },
  {
   "cell_type": "markdown",
   "metadata": {},
   "source": [
    "Using pie chart is often discouraged. Try making a donut chart, bar chart or treemap instead: https://www.data-to-viz.com/caveat/pie.html"
   ]
  },
  {
   "cell_type": "code",
   "execution_count": 38,
   "metadata": {},
   "outputs": [],
   "source": [
    "# Group the data by Type and calculate MSRP's mean and Length's max and min.\n",
    "# Plot a bar chart for MSRP and 2 line charts for max and min lengths.\n",
    "# All charts should be on the same ax."
   ]
  },
  {
   "cell_type": "code",
   "execution_count": null,
   "metadata": {},
   "outputs": [],
   "source": []
  }
 ],
 "metadata": {
  "kernelspec": {
   "display_name": "Python 3",
   "language": "python",
   "name": "python3"
  },
  "language_info": {
   "codemirror_mode": {
    "name": "ipython",
    "version": 3
   },
   "file_extension": ".py",
   "mimetype": "text/x-python",
   "name": "python",
   "nbconvert_exporter": "python",
   "pygments_lexer": "ipython3",
   "version": "3.7.4"
  }
 },
 "nbformat": 4,
 "nbformat_minor": 2
}
