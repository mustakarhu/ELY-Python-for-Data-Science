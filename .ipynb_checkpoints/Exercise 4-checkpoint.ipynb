{
 "cells": [
  {
   "cell_type": "markdown",
   "metadata": {},
   "source": [
    "# Exercise 4\n",
    "\n",
    "Son Huynh 13.02.2020"
   ]
  },
  {
   "cell_type": "markdown",
   "metadata": {},
   "source": [
    "Deadline: **11.59pm 18.02** (Tuesday)\n",
    "\n",
    "Submit link: https://www.dropbox.com/request/ZvBWoQUCy8pwRVxQxwJx"
   ]
  },
  {
   "cell_type": "markdown",
   "metadata": {
    "collapsed": true
   },
   "source": [
    "## Part 1: Small practice problems"
   ]
  },
  {
   "cell_type": "markdown",
   "metadata": {},
   "source": [
    "1a- Given this nested list, use slicing to grab the last 3 elements"
   ]
  },
  {
   "cell_type": "code",
   "execution_count": 1,
   "metadata": {},
   "outputs": [],
   "source": [
    "lst = [1,2,[3,4],[5,[100,200,['john doe']],23,11],6,1,7]"
   ]
  },
  {
   "cell_type": "code",
   "execution_count": 4,
   "metadata": {},
   "outputs": [
    {
     "data": {
      "text/plain": [
       "[6, 1, 7]"
      ]
     },
     "execution_count": 4,
     "metadata": {},
     "output_type": "execute_result"
    }
   ],
   "source": [
    "# Your solution here\n",
    "new_lst = lst[-3:]\n",
    "new_lst"
   ]
  },
  {
   "cell_type": "markdown",
   "metadata": {},
   "source": [
    "1b- Now use list indexing to grab the name 'john doe' and store it in a variable called __name__"
   ]
  },
  {
   "cell_type": "code",
   "execution_count": 16,
   "metadata": {},
   "outputs": [
    {
     "data": {
      "text/plain": [
       "'john doe'"
      ]
     },
     "execution_count": 16,
     "metadata": {},
     "output_type": "execute_result"
    }
   ],
   "source": [
    "# Your solution here\n",
    "name = lst[3][1][2][0]\n",
    "name"
   ]
  },
  {
   "cell_type": "markdown",
   "metadata": {},
   "source": [
    "1c- Capitalize the first initials in name"
   ]
  },
  {
   "cell_type": "code",
   "execution_count": 26,
   "metadata": {},
   "outputs": [
    {
     "name": "stdout",
     "output_type": "stream",
     "text": [
      "John Doe\n"
     ]
    }
   ],
   "source": [
    "# Your solution here\n",
    "#not covered in class\n",
    "\n",
    "#title = name.title() #title gives the capitalization of every word in the string\n",
    "#print(title)\n",
    "\n",
    "capitalized = \" \".join([x.capitalize() for x in name.split()]) #using split into capitalizing on a list comprehension into join\n",
    "print(capitalized)"
   ]
  },
  {
   "cell_type": "markdown",
   "metadata": {},
   "source": [
    "2 - Given the string s\n",
    "\n",
    "Write a function that prints the number of times the string __bob__ or __Bob__ occurs in `s`. For example, if `s = 'azcBobobeg'`, then your program should print\n",
    "\n",
    "Number of times bob occurs is: 2"
   ]
  },
  {
   "cell_type": "code",
   "execution_count": 1,
   "metadata": {
    "scrolled": true
   },
   "outputs": [],
   "source": [
    "s = 'azcBobobeg'\n",
    "s2 = 'bobBobobabob'\n",
    "# Your solution here\n",
    "def find_bob(string):\n",
    "    conditions = [\"bob\", \"Bob\"]\n",
    "    count=0\n",
    "    for i in range(len(string)-2):\n",
    "        if(string[i:i+3] in conditions):\n",
    "            count+=1\n",
    "    \n",
    "    return count"
   ]
  },
  {
   "cell_type": "code",
   "execution_count": 11,
   "metadata": {},
   "outputs": [
    {
     "name": "stdout",
     "output_type": "stream",
     "text": [
      "3 1 4 "
     ]
    }
   ],
   "source": [
    "#### checks ####\n",
    "strings = [\"azcBoBobobob\", \"bobBBBBooob\", \"alfabetboBoboboaaboBBoboooboBob\"] # should return 3,1,4\n",
    "for string in strings:\n",
    "    print(str(find_bob(string)), end=' ')"
   ]
  },
  {
   "cell_type": "markdown",
   "metadata": {},
   "source": [
    "3- Create a function that grabs the email website domain from a string in the form:\n",
    "\n",
    "user@domain.com\n",
    "\n",
    "So for example, passing __\"user@domain.com\"__ would return: __domain.com__\n"
   ]
  },
  {
   "cell_type": "code",
   "execution_count": 32,
   "metadata": {},
   "outputs": [
    {
     "name": "stdout",
     "output_type": "stream",
     "text": [
      "domain.com\n"
     ]
    }
   ],
   "source": [
    "# Your solution here\n",
    "def get_domain(email):\n",
    "    return email.split(\"@\")[1] #index 1 has the domain part\n",
    "\n",
    "email1 = \"user@domain.com\"\n",
    "print(get_domain(email1))"
   ]
  },
  {
   "cell_type": "markdown",
   "metadata": {},
   "source": [
    "4a- First, let's make a list of grocery, consisting of __\"banana\",\"orange\", and \"apple\"__, and name the list __grocery__."
   ]
  },
  {
   "cell_type": "code",
   "execution_count": 33,
   "metadata": {},
   "outputs": [],
   "source": [
    "# Your solution goes here\n",
    "grocery = [\"banana\", \"orange\", \"apple\"]"
   ]
  },
  {
   "cell_type": "markdown",
   "metadata": {},
   "source": [
    "Now you are given two dictionaries, showing the inventory stock and price of each item in the store."
   ]
  },
  {
   "cell_type": "code",
   "execution_count": 41,
   "metadata": {},
   "outputs": [],
   "source": [
    "stock = {\n",
    "    \"banana\": 6,\n",
    "    \"apple\": 0,\n",
    "    \"orange\": 32,\n",
    "    \"pear\": 15\n",
    "}\n",
    "\n",
    "prices = {\n",
    "    \"banana\": 4,\n",
    "    \"apple\": 2,\n",
    "    \"orange\": 1.5,\n",
    "    \"pear\": 3\n",
    "}"
   ]
  },
  {
   "cell_type": "markdown",
   "metadata": {},
   "source": [
    "4b- Define a function __compute_bill__ that takes one argument __grocery__ as input. In the function, create a variable __total__ with an initial value of zero.For each item in the __grocery__ list, add the price of that item to total. Finally, return the __total__. Ignore whether or not the item you're billing for is in stock.Note that your function should work for any grocery list."
   ]
  },
  {
   "cell_type": "code",
   "execution_count": 42,
   "metadata": {},
   "outputs": [
    {
     "data": {
      "text/plain": [
       "7.5"
      ]
     },
     "execution_count": 42,
     "metadata": {},
     "output_type": "execute_result"
    }
   ],
   "source": [
    "def compute_bill(grocery):\n",
    "    total = 0\n",
    "    # Your solution goes here\n",
    "    for fruit in grocery:\n",
    "        if(fruit in prices.keys()):\n",
    "            total+=prices[fruit]\n",
    "    return total\n",
    "\n",
    "#Running compute_bill(grocery) should return 7.5\n",
    "compute_bill(grocery)"
   ]
  },
  {
   "cell_type": "markdown",
   "metadata": {},
   "source": [
    "4c- Make the following changes to your __compute_bill__ function:\n",
    "\n",
    "- While you loop through each item of grocery, only add the price of the item to total if the item's stock count is greater than zero.\n",
    "- If the item is in stock and after you add the price to the total, subtract one from the item's stock count.\n",
    "\n"
   ]
  },
  {
   "cell_type": "code",
   "execution_count": 43,
   "metadata": {},
   "outputs": [
    {
     "data": {
      "text/plain": [
       "5.5"
      ]
     },
     "execution_count": 43,
     "metadata": {},
     "output_type": "execute_result"
    }
   ],
   "source": [
    "def compute_bill(grocery):\n",
    "    total = 0\n",
    "    # Your solution goes here\n",
    "    for fruit in grocery:\n",
    "        if(fruit in prices.keys()):\n",
    "            if(stock[fruit]>0):\n",
    "                total+=prices[fruit]\n",
    "                stock[fruit]-=1\n",
    "    return total\n",
    "\n",
    "compute_bill(grocery)"
   ]
  },
  {
   "cell_type": "code",
   "execution_count": 44,
   "metadata": {},
   "outputs": [
    {
     "name": "stdout",
     "output_type": "stream",
     "text": [
      "{'banana': 5, 'apple': 0, 'orange': 31, 'pear': 15}\n"
     ]
    }
   ],
   "source": [
    "print(stock)"
   ]
  },
  {
   "cell_type": "markdown",
   "metadata": {},
   "source": [
    "Running compute_bill(grocery) should now return 5.5, and the stock dictionary should become\n",
    "\n",
    "stock = {\n",
    "    \"banana\": 5,\n",
    "    \"apple\": 0,\n",
    "    \"orange\": 31,\n",
    "    \"pear\": 15\n",
    "}"
   ]
  },
  {
   "cell_type": "markdown",
   "metadata": {},
   "source": [
    "## Part 2: Letter count for a haiku\n",
    "\n",
    "The aim of this exercise is to count the number of occurences for each unique letter in a haiku"
   ]
  },
  {
   "cell_type": "markdown",
   "metadata": {
    "collapsed": true
   },
   "source": [
    "### Practicing with Strings\n",
    "Below is a simple \"haiku\" poem split into its individual lines. The code below prints each line for the haiku to be presentable."
   ]
  },
  {
   "cell_type": "code",
   "execution_count": 45,
   "metadata": {
    "scrolled": true
   },
   "outputs": [
    {
     "name": "stdout",
     "output_type": "stream",
     "text": [
      "Green and speckled legs,\n",
      "Hop on logs and lily pads\n",
      "Splash in cool water.\n"
     ]
    }
   ],
   "source": [
    "list_of_strings = [\"Green and speckled legs,\", \"Hop on logs and lily pads\", \"Splash in cool water.\"]\n",
    "\n",
    "for line in list_of_strings:\n",
    "    print(line)"
   ]
  },
  {
   "cell_type": "markdown",
   "metadata": {},
   "source": [
    "Now **join all of the lines into a string** and then print the string. The lines should be printed on separate lines. As a reminder: new lines are represented in coding using the new line character \"**\\n**\"."
   ]
  },
  {
   "cell_type": "code",
   "execution_count": 47,
   "metadata": {},
   "outputs": [
    {
     "name": "stdout",
     "output_type": "stream",
     "text": [
      "Green and speckled legs,\n",
      "Hop on logs and lily pads\n",
      "Splash in cool water.\n",
      "\n"
     ]
    }
   ],
   "source": [
    "# Define an empty string \"haiku\"\n",
    "haiku = ''\n",
    "\n",
    "\n",
    "# Join the lines in list_of_strings into haiku\n",
    "# Your code here\n",
    "for line in list_of_strings:\n",
    "    haiku+=line+'\\n'\n",
    "\n",
    "#print\n",
    "print(haiku)"
   ]
  },
  {
   "cell_type": "markdown",
   "metadata": {},
   "source": [
    "### Using Lists\n",
    "\n",
    "From here, a **list** needs to be constructed for the individual characters that could be present in the string **haiku** defined in Part 1. For this purpose, a string of the *alphabet* can be used as below."
   ]
  },
  {
   "cell_type": "code",
   "execution_count": 73,
   "metadata": {},
   "outputs": [
    {
     "name": "stdout",
     "output_type": "stream",
     "text": [
      "['a', 'b', 'c', 'd', 'e', 'f', 'g', 'h', 'i', 'j', 'k', 'l', 'm', 'n', 'o', 'p', 'q', 'r', 's', 't', 'u', 'v', 'w', 'x', 'y', 'z']\n"
     ]
    }
   ],
   "source": [
    "# Define a string of all the characters in the English alphabet\n",
    "alphabet = \"abcdefghijklmnopqrstuvwxyz\"\n",
    "\n",
    "\n",
    "# Define a list for each character in the English alphabet\n",
    "items = [char for char in alphabet]\n",
    "\n",
    "\n",
    "# Use list append to add each letter to items\n",
    "# for letter in alphabet:\n",
    "#     # Your code here\n",
    "#     pass # done above via list comprehension\n",
    "\n",
    "print(items)"
   ]
  },
  {
   "cell_type": "markdown",
   "metadata": {},
   "source": [
    "Now we need a list containing the *count* of each character. Using a technique of your choice, **create a list of 26 0's** representing the count of the 26 characters in the alphabet."
   ]
  },
  {
   "cell_type": "code",
   "execution_count": 106,
   "metadata": {},
   "outputs": [
    {
     "data": {
      "text/plain": [
       "[0, 0, 0, 0, 0, 0, 0, 0, 0, 0, 0, 0, 0, 0, 0, 0, 0, 0, 0, 0, 0, 0, 0, 0, 0, 0]"
      ]
     },
     "execution_count": 106,
     "metadata": {},
     "output_type": "execute_result"
    }
   ],
   "source": [
    "# Define a list for the count of each character in the English alphabet\n",
    "count = [0 for x in range(26)]# Your code here\n",
    "\n",
    "count"
   ]
  },
  {
   "cell_type": "raw",
   "metadata": {},
   "source": [
    "Calling count should show\n",
    "[0, 0, 0, 0, 0, 0, 0, 0, 0, 0, 0, 0, 0, 0, 0, 0, 0, 0, 0, 0, 0, 0, 0, 0, 0, 0]"
   ]
  },
  {
   "cell_type": "markdown",
   "metadata": {},
   "source": [
    "From here, the main code of the program can be written. As an example, the code below has a good structure, but it's not the only good structure. _Coding is an art and thus many different painters will use different strokes_. Also, there are some logical errors to the example code. Try fixing it or implement your own structure."
   ]
  },
  {
   "cell_type": "markdown",
   "metadata": {},
   "source": [
    "Your hint is that there are only lower case letters in the list **items** defined above. Also note that everytime you run your code, it will be cumulatively adding to the list **count**. Thus, you will need to re-run the code above to reset each element in the list **count** to 0 every time you run the code below."
   ]
  },
  {
   "cell_type": "code",
   "execution_count": 103,
   "metadata": {},
   "outputs": [
    {
     "name": "stdout",
     "output_type": "stream",
     "text": [
      "a:5\tb:0\tc:2\td:4\te:6\tf:0\tg:2\th:1\ti:2\tj:0\tk:1\tl:7\tm:0\t\n",
      "n:5\to:5\tp:4\tq:0\tr:2\ts:5\tt:1\tu:0\tv:0\tw:1\tx:0\ty:1\tz:0\t\n"
     ]
    }
   ],
   "source": [
    "def countLetter(haiku, items, count):\n",
    "    \n",
    "    #resetting values to zero\n",
    "    for i in range(len(count)):\n",
    "        count[i] = 0\n",
    "    \n",
    "    for character in haiku:\n",
    "        if(character in items): #we're not interested in whitespaces or punctuations\n",
    "            count[items.index(character.lower())] += 1 #add lower() to avoid distinction between upper and lower cases\n",
    "    \n",
    "    i = 0\n",
    "    while i < len(items):\n",
    "        print(f\"{items[i]}:{count[i]}\", end=\"\\t\") #error on concatenating strings, using f-strings now\n",
    "        i += 1\n",
    "        if(i%13==0): #a bit of formatting for readability\n",
    "            print(\"\")\n",
    "\n",
    "countLetter(haiku, items, count)\n"
   ]
  },
  {
   "cell_type": "code",
   "execution_count": 123,
   "metadata": {
    "scrolled": true
   },
   "outputs": [
    {
     "name": "stdout",
     "output_type": "stream",
     "text": [
      "a:5\tb:0\tc:2\td:4\te:6\tf:0\tg:2\th:1\ti:2\tj:0\tk:1\tl:7\tm:0\t\n",
      "n:5\to:5\tp:4\tq:0\tr:2\ts:5\tt:1\tu:0\tv:0\tw:1\tx:0\ty:1\tz:0\t\n"
     ]
    }
   ],
   "source": [
    "def countLetter(haiku, items, count):\n",
    "    # Your code here\n",
    "    #resetting values to zero\n",
    "    for i in range(len(count)):\n",
    "        count[i] = 0\n",
    "    \n",
    "    for character in haiku:\n",
    "        if(character in items): #we're not interested in whitespaces or punctuations\n",
    "            count[items.index(character.lower())] += 1 #add lower() to avoid distinction between upper and lower cases\n",
    "    \n",
    "    i = 0\n",
    "    while i < len(items):\n",
    "        print(f\"{items[i]}:{count[i]}\", end=\"\\t\") #error on concatenating strings, using f-strings now\n",
    "        i += 1\n",
    "        if(i%13==0): #a bit of formatting for readability\n",
    "            print(\"\")\n",
    "\n",
    "countLetter(haiku, items, count)\n"
   ]
  },
  {
   "cell_type": "raw",
   "metadata": {},
   "source": [
    "Knowledge check:\n",
    "\n",
    "- Can you write def countLetter(a, b, c): and change haiku to a, items to b, count to c inside the countLetter function instead?\n",
    "- count is outside of function countLetter, therefore it's a global variable. But why you can modify it inside the function? And do you think this is a robust design? If not, how can you improve it?"
   ]
  },
  {
   "cell_type": "code",
   "execution_count": 136,
   "metadata": {},
   "outputs": [
    {
     "name": "stdout",
     "output_type": "stream",
     "text": [
      "a:5\tb:0\tc:2\td:4\te:6\tf:0\tg:2\th:1\ti:2\tj:0\tk:1\tl:7\tm:0\t\n",
      "n:5\to:5\tp:4\tq:0\tr:2\ts:5\tt:1\tu:0\tv:0\tw:1\tx:0\ty:1\tz:0\t\n",
      "\n",
      "1. The values of \"haiku\",\"items\" and \"count\" will not be modified if we do not pass them as arguments. If we perform for example haiku=\"\" we will create a local variable named \"haiku\" which will not exist once we leave the scope of the function. \n",
      "\n",
      "2. We can modify it inside of the function because the variable has a global scope. Since we intend to store the values of count in this list but we want to avoid aggregating the results of previous calls. I would change it to either return count or resetting it inside of the function.\n"
     ]
    }
   ],
   "source": [
    "'''\n",
    "new code with local variables\n",
    "'''\n",
    "def countLetter(a,b,c):\n",
    "    c = [0 for x in range(26)]\n",
    "    b= \"abcdefghijklmnopqrstuvwxyz\"\n",
    "    for character in a:\n",
    "        if(character in b): #we're not interested in whitespaces or punctuations\n",
    "            c[b.index(character.lower())] += 1 #add lower() to avoid distinction between upper and lower cases\n",
    "    \n",
    "    i = 0\n",
    "    while i < len(b):\n",
    "        print(f\"{b[i]}:{c[i]}\", end=\"\\t\") #error on concatenating strings, using f-strings now\n",
    "        i += 1\n",
    "        if(i%13==0): #a bit of formatting for readability\n",
    "            print(\"\")\n",
    "\n",
    "countLetter(haiku, items, count)\n",
    "\n",
    "print('''\n",
    "1. The values of \"haiku\",\"items\" and \"count\" will not be modified if we do not pass them as arguments. If we perform for example haiku=\"\" we will create a local variable named \"haiku\" which will not exist once we leave the scope of the function. \n",
    "\n",
    "2. We can modify it inside of the function because the variable has a global scope. Since we intend to store the values of count in this list but we want to avoid aggregating the results of previous calls. I would change it to either return count or resetting it inside of the function.''')\n"
   ]
  },
  {
   "cell_type": "code",
   "execution_count": 133,
   "metadata": {},
   "outputs": [
    {
     "name": "stdout",
     "output_type": "stream",
     "text": [
      "['a', 'b', 'c', 'd', 'e', 'f', 'g', 'h', 'i', 'j', 'k', 'l', 'm', 'n', 'o', 'p', 'q', 'r', 's', 't', 'u', 'v', 'w', 'x', 'y', 'z']\n"
     ]
    }
   ],
   "source": [
    "print(items)"
   ]
  },
  {
   "cell_type": "markdown",
   "metadata": {
    "collapsed": true
   },
   "source": [
    "### Upgrading to a Dictionary\n",
    "\n",
    "As a few would have realised by now, the **dictionary** data type would be suitable for the operations attempting to be conducted in this \"haiku\" program. Thus, an upgrade is needed. Note that your **key** will be the character, and the **value** will be the count of each character."
   ]
  },
  {
   "cell_type": "code",
   "execution_count": 137,
   "metadata": {},
   "outputs": [
    {
     "name": "stdout",
     "output_type": "stream",
     "text": [
      "{'a': 5, 'b': 0, 'c': 2, 'd': 4, 'e': 6, 'f': 0, 'g': 2, 'h': 1, 'i': 2, 'j': 0, 'k': 1, 'l': 7, 'm': 0, 'n': 5, 'o': 5, 'p': 4, 'q': 0, 'r': 2, 's': 5, 't': 1, 'u': 0, 'v': 0, 'w': 1, 'x': 0, 'y': 1, 'z': 0}\n"
     ]
    }
   ],
   "source": [
    "def countDict(items, count):\n",
    "    # Create an empty dictionary\n",
    "    dictionary = {}\n",
    "\n",
    "    # Zip the two lists items and count together, and add each item:count pair to dictionary\n",
    "    # Your code here\n",
    "    for key, value in zip(items, count):\n",
    "        dictionary[key]= value\n",
    "    \n",
    "    return dictionary\n",
    "\n",
    "# Print the dictionary in the format: There are <count> <letter>\n",
    "# Your code here   \n",
    "print(countDict(items,count))"
   ]
  }
 ],
 "metadata": {
  "kernelspec": {
   "display_name": "Python 3",
   "language": "python",
   "name": "python3"
  },
  "language_info": {
   "codemirror_mode": {
    "name": "ipython",
    "version": 3
   },
   "file_extension": ".py",
   "mimetype": "text/x-python",
   "name": "python",
   "nbconvert_exporter": "python",
   "pygments_lexer": "ipython3",
   "version": "3.7.4"
  }
 },
 "nbformat": 4,
 "nbformat_minor": 2
}
