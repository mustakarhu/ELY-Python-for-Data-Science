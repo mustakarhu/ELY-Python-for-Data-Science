{
 "cells": [
  {
   "cell_type": "markdown",
   "metadata": {
    "colab_type": "text",
    "id": "PH-YwBigGWV8"
   },
   "source": [
    "#**Exercise 3**\n",
    "**Assignment Submission:**\n",
    "* Don't change the notebook's name. Eg: Exercise-3.ipynb\n",
    "* Submit your assignment via the link: https://www.bit.ly/python-submit"
   ]
  },
  {
   "cell_type": "markdown",
   "metadata": {
    "colab_type": "text",
    "id": "t71EAYHqwy2I"
   },
   "source": [
    "1 - Define a function max() that takes two numbers as arguments and returns the largest of them. \n",
    "* Use the if-then-else construct available in Python. (It is true that Python has the max() function built in, but writing it yourself is nevertheless a good exercise.)"
   ]
  },
  {
   "cell_type": "code",
   "execution_count": 63,
   "metadata": {
    "colab": {},
    "colab_type": "code",
    "id": "PJhtQV3sxQWR"
   },
   "outputs": [
    {
     "name": "stdout",
     "output_type": "stream",
     "text": [
      "5\n",
      "10\n"
     ]
    }
   ],
   "source": [
    "#Your solution goes here\n",
    "def max(x,y):\n",
    "    if(x>y):\n",
    "        return x\n",
    "    else:\n",
    "        return y\n",
    "\n",
    "#test\n",
    "print(max(3, 5))\n",
    "print(max(10, 6))"
   ]
  },
  {
   "cell_type": "markdown",
   "metadata": {
    "colab_type": "text",
    "id": "6DsTmtHdxVPM"
   },
   "source": [
    "2 - Calculate the amount obtained by investing the principal (P) for (N) years at the rate of (R). The following formula is used for the conversion:\n",
    "\n",
    "\n",
    "```\n",
    " A = P * (1 + R) ^ N\n",
    "```\n",
    "\n"
   ]
  },
  {
   "cell_type": "code",
   "execution_count": 64,
   "metadata": {
    "colab": {},
    "colab_type": "code",
    "id": "GQaFNnMkx-E1"
   },
   "outputs": [
    {
     "name": "stdout",
     "output_type": "stream",
     "text": [
      "104.03999999999999\n"
     ]
    }
   ],
   "source": [
    "#Your solution goes here\n",
    "def A(P, R, N):\n",
    "    return P*(1+R)**N\n",
    "\n",
    "print(A(100,0.02,2))"
   ]
  },
  {
   "cell_type": "markdown",
   "metadata": {
    "colab_type": "text",
    "id": "KAuIfbdtzUC1"
   },
   "source": [
    "3 - Let’s define a list of words: list_words = ['japan','uk', 'australia', 'finland', 'denmark', 'sweden']\n",
    "\n",
    "* Use a map function to print the number of character of each word:\n",
    "\n",
    "\n",
    "\n"
   ]
  },
  {
   "cell_type": "code",
   "execution_count": 65,
   "metadata": {
    "colab": {},
    "colab_type": "code",
    "id": "IX46kbzdzlDn"
   },
   "outputs": [
    {
     "name": "stdout",
     "output_type": "stream",
     "text": [
      "[5, 2, 9, 7, 7, 6]\n"
     ]
    }
   ],
   "source": [
    "#Your solution goes here\n",
    "list_words=['japan','uk','australia','finland','denmark','sweden']\n",
    "result = list(map(len,list_words))\n",
    "\n",
    "print(result)"
   ]
  },
  {
   "cell_type": "markdown",
   "metadata": {
    "colab_type": "text",
    "id": "HjyczTsSzn9I"
   },
   "source": [
    "4 - A recipe you are reading states how many grams you need for the ingredient. Unfortunately, your store only sells items in ounces. Create a function to convert grams to ounces.\n",
    "ounces = 28.3495231 * grams\n",
    " "
   ]
  },
  {
   "cell_type": "code",
   "execution_count": 66,
   "metadata": {
    "colab": {},
    "colab_type": "code",
    "id": "mfM2VTSw0ouc"
   },
   "outputs": [
    {
     "name": "stdout",
     "output_type": "stream",
     "text": [
      "3.5273961980686726\n"
     ]
    }
   ],
   "source": [
    "#Your solution goes here\n",
    "def ounces(gm):\n",
    "    return gm/28.3495231\n",
    "\n",
    "print(ounces(100))"
   ]
  },
  {
   "cell_type": "markdown",
   "metadata": {
    "colab_type": "text",
    "id": "aE6n2Cpw3qUk"
   },
   "source": [
    "5 - Given a list of fruits: ['orange', 'banana', 'apple', 'strawberries','cherry']. \n",
    "* Find the solution for expected output: ['ORANGE', 'BANANA', 'APPLE', 'STRAWBERRIES']\n",
    "* Apply upper()\n"
   ]
  },
  {
   "cell_type": "code",
   "execution_count": 28,
   "metadata": {
    "colab": {},
    "colab_type": "code",
    "id": "votXqMq1362j"
   },
   "outputs": [
    {
     "name": "stdout",
     "output_type": "stream",
     "text": [
      "['ORANGE', 'BANANA', 'APPLE', 'STRAWBERRIES', 'CHERRY']\n"
     ]
    }
   ],
   "source": [
    "list_fruits = ['orange', 'banana', 'apple', 'strawberries','cherry']\n",
    "\n",
    "#Your solution goes here\n",
    "\n",
    "result = list(map(lambda x: x.upper(), list_fruits))\n",
    "\n",
    "print(result)"
   ]
  },
  {
   "cell_type": "markdown",
   "metadata": {
    "colab_type": "text",
    "id": "qwcujOeGTlB6"
   },
   "source": [
    "**Bonus Challenge**: Write a program to solve a classic puzzle: We count 35 heads and 94 legs among the chickens and rabbits in a farm. How many rabbits and how many chickens do we have?\n",
    "\n",
    "* Hint: Use a for loop to iterate all possible solutions."
   ]
  },
  {
   "cell_type": "code",
   "execution_count": 2,
   "metadata": {
    "colab": {},
    "colab_type": "code",
    "id": "g8efMPMqTswP",
    "scrolled": true
   },
   "outputs": [
    {
     "name": "stdout",
     "output_type": "stream",
     "text": [
      "12 rabbits and 23 chickens\n"
     ]
    }
   ],
   "source": [
    "#Your solution goes here\n",
    "\n",
    "def animalFarm(heads,legs):\n",
    "    \n",
    "    for chicken_legs in range(legs+1):\n",
    "        if (chicken_legs%2==0):\n",
    "            rabbit_legs = legs-chicken_legs\n",
    "            if((chicken_legs/2+rabbit_legs/4)==heads):\n",
    "                return (chicken_legs//2, rabbit_legs//4)\n",
    "\n",
    "\n",
    "animals = animalFarm(35,94)\n",
    "print(f\"{animals[1]} rabbits and {animals[0]} chickens\")"
   ]
  },
  {
   "cell_type": "code",
   "execution_count": null,
   "metadata": {},
   "outputs": [],
   "source": [
    "list = []\n",
    "\n",
    "list+= []"
   ]
  }
 ],
 "metadata": {
  "colab": {
   "authorship_tag": "ABX9TyPXzQVbk0SmdpsG6Ldz5U1b",
   "collapsed_sections": [],
   "name": "Exercise-3.ipynb",
   "provenance": []
  },
  "kernelspec": {
   "display_name": "Python 3",
   "language": "python",
   "name": "python3"
  },
  "language_info": {
   "codemirror_mode": {
    "name": "ipython",
    "version": 3
   },
   "file_extension": ".py",
   "mimetype": "text/x-python",
   "name": "python",
   "nbconvert_exporter": "python",
   "pygments_lexer": "ipython3",
   "version": "3.7.3"
  }
 },
 "nbformat": 4,
 "nbformat_minor": 1
}
