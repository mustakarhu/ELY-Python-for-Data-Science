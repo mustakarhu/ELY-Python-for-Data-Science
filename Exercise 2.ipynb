{
 "cells": [
  {
   "cell_type": "markdown",
   "metadata": {},
   "source": [
    "## Assignments\n",
    "\n",
    "Rohan Chauhan \n",
    "31.01.2020"
   ]
  },
  {
   "cell_type": "markdown",
   "metadata": {},
   "source": [
    "#### Submission Instructions\n",
    "\n",
    "1. Don't change the notebook's name.\n",
    "2. Download the notebook. Go to File -> Download Exercise 2.ipynb\n",
    "3. Click on the link http://bit.ly/python-submit\n",
    "4. Upload the file and enter your name and email.\n",
    "\n",
    "**Deadline for Submission**: 12.02.2020 Wednesday 10:00 a.m.\n",
    "\n",
    "Further notes: If you want to submit your assignment late, email trainer.python@theshortcut.org to ask for extension."
   ]
  },
  {
   "cell_type": "markdown",
   "metadata": {},
   "source": [
    "**Assignment 1** *Write a program to print the following pattern. (Optional)*\n"
   ]
  },
  {
   "cell_type": "code",
   "execution_count": null,
   "metadata": {
    "collapsed": true
   },
   "outputs": [],
   "source": [
    "'''\n",
    "1. 1 2 3 4 5\n",
    "   1 2 3 4\n",
    "   1 2 3\n",
    "   1 2\n",
    "   1\n",
    "   \n",
    "2. 1 2 3 4 5\n",
    "     1 2 3 4\n",
    "       1 2 3\n",
    "         1 2\n",
    "           1\n",
    "           \n",
    "3. 1\n",
    "   1 2\n",
    "   1 2 3\n",
    "   1 2 3 4\n",
    "   1 2 3 4 5\n",
    "   \n",
    "4.        5\n",
    "        4 5\n",
    "      3 4 5\n",
    "    2 3 4 5\n",
    "  1 2 3 4 5\n",
    "           \n",
    "5. * * * * * * *\n",
    "     * * * * *\n",
    "       * * *\n",
    "         *\n",
    "\n",
    "6. * \n",
    "   * * \n",
    "   * * * \n",
    "   * * * * \n",
    "   * * * * *\n",
    "   * * * *\n",
    "   * * * \n",
    "   * * \n",
    "   *\n",
    "         \n",
    "''' \n"
   ]
  },
  {
   "cell_type": "markdown",
   "metadata": {},
   "source": [
    "Example Solution"
   ]
  },
  {
   "cell_type": "code",
   "execution_count": null,
   "metadata": {
    "collapsed": true
   },
   "outputs": [],
   "source": [
    "# Pattern 4\n",
    "for i in range(1,6):\n",
    "    for k in range(5-i):\n",
    "        print(' ',end=' ')\n",
    "    num = 5\n",
    "    for j in range(i):\n",
    "        print(num,end=' ')\n",
    "        num = num - 1\n",
    "    print('')\n",
    "    "
   ]
  },
  {
   "cell_type": "markdown",
   "metadata": {},
   "source": [
    "**Assignment 2** *Write a program to find length of a string without using len() function.*"
   ]
  },
  {
   "cell_type": "code",
   "execution_count": null,
   "metadata": {
    "collapsed": true
   },
   "outputs": [],
   "source": [
    "#Your Solution goes here"
   ]
  },
  {
   "cell_type": "markdown",
   "metadata": {},
   "source": [
    "**Assignment 3** *Write a program to check if 2 strings are anagrams or not.* **Google, what's an anagram?** \n",
    "\n",
    "For example, <br/>\n",
    "`tac is anagram of cat`<br/>\n",
    "`taac is not anagram of cat`\n",
    "\n",
    "**(Optional)**"
   ]
  },
  {
   "cell_type": "code",
   "execution_count": null,
   "metadata": {
    "collapsed": true
   },
   "outputs": [],
   "source": [
    "#Your Solution goes here"
   ]
  },
  {
   "cell_type": "markdown",
   "metadata": {},
   "source": [
    "**Assignment 4** *Write a program to check if 2 strings are palindrome or not.* **Google, what's an palindrome?** \n",
    "For example, <br/>\n",
    "`madam is palindrome.`<br/>\n",
    "`caac is palindrome.`\n",
    "\n",
    "**(Optional)**"
   ]
  },
  {
   "cell_type": "code",
   "execution_count": null,
   "metadata": {
    "collapsed": true
   },
   "outputs": [],
   "source": [
    "#Your Solution goes here"
   ]
  },
  {
   "cell_type": "markdown",
   "metadata": {},
   "source": [
    "__Assignment 5__ *Write a program to print the fibonacci sequence till 100.*"
   ]
  },
  {
   "cell_type": "code",
   "execution_count": null,
   "metadata": {
    "collapsed": true
   },
   "outputs": [],
   "source": [
    "#Your Solution goes here"
   ]
  },
  {
   "cell_type": "markdown",
   "metadata": {},
   "source": [
    "**Assignment 6** *Write a program to check whether a number is armstrong number or not. For example:*\n",
    "\n",
    "  1\\*1\\*1 + 5\\*5\\*5 + 3\\*3\\*3 = 153 <br/>\n",
    "  1\\*1\\*1\\*1 + 6\\*6\\*6\\*6 + 3\\*3\\*3\\*3 + 4\\*4\\*4\\*4 = 1634\n",
    "  \n",
    "  Sum of each digit in the number raised to the power of total number of digits is equal to number itself."
   ]
  },
  {
   "cell_type": "code",
   "execution_count": null,
   "metadata": {
    "collapsed": true
   },
   "outputs": [],
   "source": [
    "#Your Solution goes here"
   ]
  },
  {
   "cell_type": "markdown",
   "metadata": {},
   "source": [
    "**Assignment 7** *Write a program to find factorial of a number.*"
   ]
  },
  {
   "cell_type": "code",
   "execution_count": null,
   "metadata": {
    "collapsed": true
   },
   "outputs": [],
   "source": [
    "#Your Solution goes here"
   ]
  },
  {
   "cell_type": "markdown",
   "metadata": {},
   "source": [
    "**Assignment 8** *Write a program to return the of pair of numbers that equal a given sum k in a list.* For example,\n",
    "\n",
    "**Testcase**<br/>\n",
    "`list1 = [3,8,4,9,2,6,5]`<br/>\n",
    "`k = 11`<br/>\n",
    "**Answer**<br/>\n",
    "`3 8`<br/>\n",
    "`6 5`<br/>\n",
    "`9 2`<br/>\n",
    "\n",
    "**(Optional)**"
   ]
  },
  {
   "cell_type": "code",
   "execution_count": null,
   "metadata": {
    "collapsed": true
   },
   "outputs": [],
   "source": [
    "#Your Solution goes here"
   ]
  }
 ],
 "metadata": {
  "kernelspec": {
   "display_name": "Python 3",
   "language": "python",
   "name": "python3"
  },
  "language_info": {
   "codemirror_mode": {
    "name": "ipython",
    "version": 3
   },
   "file_extension": ".py",
   "mimetype": "text/x-python",
   "name": "python",
   "nbconvert_exporter": "python",
   "pygments_lexer": "ipython3",
   "version": "3.7.3"
  }
 },
 "nbformat": 4,
 "nbformat_minor": 2
}
