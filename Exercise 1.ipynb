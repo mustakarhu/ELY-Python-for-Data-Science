{
 "cells": [
  {
   "cell_type": "markdown",
   "metadata": {},
   "source": [
    "### Exercise 1"
   ]
  },
  {
   "cell_type": "markdown",
   "metadata": {
    "colab_type": "text",
    "id": "GkXvpU68rfhL"
   },
   "source": [
    "### Assignment Submission:\n",
    "\n",
    "*   Step 1: Don't change the notebook's name. Eg: Exercise-1.ipynb\n",
    "*   Step 2: Download the notebook. Go to File -> Download .ipynb\n",
    "*   Step 3: Submit your assignment via the link: https://www.dropbox.com/request/ZvBWoQUCy8pwRVxQxwJx\n",
    "*   Further notes: If you want to submit your assignment late, email trainer.python@theshortcut.org\n",
    "to ask for extension.\n",
    "\n",
    "\n",
    "\n",
    "\n",
    "\n",
    "\n"
   ]
  },
  {
   "cell_type": "markdown",
   "metadata": {
    "colab_type": "text",
    "id": "WKibXGqYFKOj"
   },
   "source": [
    "## Part 1: Getting Started"
   ]
  },
  {
   "cell_type": "markdown",
   "metadata": {
    "colab_type": "text",
    "id": "Qd-vVHqdFKOl"
   },
   "source": [
    "Statements can be printed in Python using the **print( )** function. Use this function or command to print the following:\n",
    "    1. \"My name is <your name>\"\n",
    "    2. \"It is 35 degrees outside\"\n",
    "    3. 85\n",
    "    4. \"85\"\n",
    "    5. 85.0\n",
    "    6. 3.5"
   ]
  },
  {
   "cell_type": "code",
   "execution_count": 4,
   "metadata": {
    "colab": {},
    "colab_type": "code",
    "id": "Phm3t0j7FKOo"
   },
   "outputs": [
    {
     "name": "stdout",
     "output_type": "stream",
     "text": [
      "My name is Fabio Takahashi\n",
      "it is 35 degrees outside\n",
      "85\n",
      "85\n",
      "3.5\n"
     ]
    }
   ],
   "source": [
    "# Write your code below this line\n",
    "name = \"Fabio Takahashi\"\n",
    "temp = 35\n",
    "num = 85\n",
    "num2 = 3.5\n",
    "\n",
    "print(f\"My name is {name}\")\n",
    "print(f\"it is {temp} degrees outside\")\n",
    "print(num)\n",
    "print(str(num))\n",
    "print(num2)"
   ]
  },
  {
   "cell_type": "markdown",
   "metadata": {
    "colab_type": "text",
    "id": "ha3wGiKWFKOt"
   },
   "source": [
    "Data need to be stored before being used for computation. Programming languages provide **variables** to store data. \n",
    "    1. Define three variables a, b and c. \n",
    "    2. Initialise them with the values of 35, 46.5 and \"hello world\" respectively.\n",
    "    3. What is the data type of each variable?\n",
    "    4. Use the \"type\" function to find out the data type.\n",
    "    5. Can you tell the difference between (3) (4) and (5) in the previous task in Part 1?"
   ]
  },
  {
   "cell_type": "code",
   "execution_count": 11,
   "metadata": {
    "colab": {},
    "colab_type": "code",
    "id": "vjFn8pfhFKOu"
   },
   "outputs": [
    {
     "name": "stdout",
     "output_type": "stream",
     "text": [
      "a = integer, b = floating point, c = string\n",
      "<class 'int'>\n",
      "<class 'float'>\n",
      "<class 'str'>\n",
      "not when using 'print' command, everything is converted to string type\n"
     ]
    }
   ],
   "source": [
    "# Write your code below this line\n",
    "\n",
    "### exercise 1\n",
    "a=b=c\n",
    "### exercise 2\n",
    "a = 35\n",
    "b = 46.5\n",
    "c = \"hello world\"\n",
    "\n",
    "### exercise 3\n",
    "print(\"a = integer, b = floating point, c = string\")\n",
    "\n",
    "### exercise 4\n",
    "\n",
    "print(type(a))\n",
    "print(type(b))\n",
    "print(type(c))\n",
    "\n",
    "### exercise 5\n",
    "print(\"not when using 'print' command, everything is converted to string type\")"
   ]
  },
  {
   "cell_type": "markdown",
   "metadata": {
    "colab_type": "text",
    "id": "bYyTnsA1FKOy"
   },
   "source": [
    "## Part 2: Arithmetic Operators"
   ]
  },
  {
   "cell_type": "markdown",
   "metadata": {
    "colab_type": "text",
    "id": "IlcDAv7NFKOz"
   },
   "source": [
    "Without running these commands, state the output of the following statements. \n",
    "(Assume that **a = 10**, **b = 5**, **c = 5.5**, **d = 3**)\n",
    "    1. a + 2 * b\n",
    "    2. b - 4 / a\n",
    "    3. a / b\n",
    "    4. a // b\n",
    "    5. 1 / 2\n",
    "    6. 1 // 2\n",
    "    7. 1 % 2\n",
    "    8. a ** d\n",
    "    9. a / b + 5 - 5.5 * c\n",
    "    10. a**2 + 2 - c // 5 * 2\n",
    "    11. (a + b) * 3 / d + (4 - d)\n",
    "    12. 2 * ( a * 2 / a)"
   ]
  },
  {
   "cell_type": "markdown",
   "metadata": {
    "colab_type": "text",
    "id": "jqZPsK3ZFKO0"
   },
   "source": [
    "Now run the commands and print the output. \n",
    "What is the difference between (3) and (4)? What is the **operator precedence** in Python? "
   ]
  },
  {
   "cell_type": "code",
   "execution_count": 5,
   "metadata": {
    "colab": {},
    "colab_type": "code",
    "id": "t9jCmzZiFKO1"
   },
   "outputs": [
    {
     "name": "stdout",
     "output_type": "stream",
     "text": [
      "1:  20\n",
      "2:  4.6\n",
      "3:  2.0\n",
      "4:  2\n",
      "5:  0.5\n",
      "6:  0\n",
      "7:  1\n",
      "8:  1000\n",
      "9:  -23.25\n",
      "10:  100.0\n",
      "11:  16.0\n",
      "12:  4.0\n"
     ]
    }
   ],
   "source": [
    "# Write your code below this line\n",
    "a=10\n",
    "b=5\n",
    "c=5.5\n",
    "d=3\n",
    "print(\"1: \", a+2*b)\n",
    "print(\"2: \",b-4/a)\n",
    "print(\"3: \",a/b)\n",
    "print(\"4: \",a//b)\n",
    "print(\"5: \",1/2)\n",
    "print(\"6: \", 1//2)\n",
    "print(\"7: \",1%2)\n",
    "print(\"8: \", a**d)\n",
    "print(\"9: \", a/b+5-5.5*c)\n",
    "print(\"10: \",a**2+2-c//5*2)\n",
    "print(\"11: \",(a+b)*3/d+(4-d))\n",
    "print(\"12: \",2*(a*2/a))"
   ]
  },
  {
   "cell_type": "markdown",
   "metadata": {
    "colab_type": "text",
    "id": "V8wZWkFzFKO5"
   },
   "source": [
    "## Part 3: String Operations and Typecasting"
   ]
  },
  {
   "cell_type": "markdown",
   "metadata": {
    "colab_type": "text",
    "id": "oxIWd6FzFKO6"
   },
   "source": [
    "1. Define two string variables and initialise them with \"abc\" and \"xyz\".\n",
    "2. Concatenate the two variables and store them in another variable.\n",
    "3. Determine the length of this variable using **len( )** function.\n",
    "4. Find the number of occurrence of the letter 'o' in \"OOOooofffforossseroO\" using **count( )** function. "
   ]
  },
  {
   "cell_type": "code",
   "execution_count": 8,
   "metadata": {
    "colab": {},
    "colab_type": "code",
    "id": "LSy_uaVRFKO8"
   },
   "outputs": [
    {
     "name": "stdout",
     "output_type": "stream",
     "text": [
      "length of concatenated strings: 6\n",
      "occurence of 'o': 6\n"
     ]
    }
   ],
   "source": [
    "### part 1\n",
    "s1=\"abc\"\n",
    "s2=\"xyz\"\n",
    "\n",
    "### part 2\n",
    "s12 = s1+s2\n",
    "\n",
    "### part 3\n",
    "print(\"length of concatenated strings:\",len(s12))\n",
    "\n",
    "### part 4\n",
    "sc = \"OOOooofffforossseroO\"\n",
    "print(\"occurence of 'o':\",sc.count(\"o\"))"
   ]
  },
  {
   "cell_type": "markdown",
   "metadata": {
    "colab_type": "text",
    "id": "3Uqce9U5FKPC"
   },
   "source": [
    "What is _wrong_ with the following block of code? Run this code to find out the error.\n",
    "\n",
    "    a = \"He got \"\n",
    "    b = 35\n",
    "    c = \"marks in the test\"\n",
    "    d = a + b + c\n",
    "    print(d)"
   ]
  },
  {
   "cell_type": "code",
   "execution_count": 12,
   "metadata": {
    "colab": {},
    "colab_type": "code",
    "id": "8ES4UaZUFKPE"
   },
   "outputs": [
    {
     "name": "stdout",
     "output_type": "stream",
     "text": [
      "The b variable is of a different type than a and c, hence they cannot be concatenated without undergoing through convertion first.\n"
     ]
    }
   ],
   "source": [
    "# Write your code below this line\n",
    "print(\"The b variable is of a different type than a and c, hence they cannot be concatenated without undergoing through convertion first.\")"
   ]
  },
  {
   "cell_type": "markdown",
   "metadata": {
    "colab_type": "text",
    "id": "nIvMyVYPFKPJ"
   },
   "source": [
    "String operators can only work on variables of string type. Therefore all variables need to be converted to string before the operation can be applied to them. Variables can be converted from one type to another using _typecasting_. Anything can be typecasted to string by using the **str( )** operator. \n",
    "Now use this operator to fix the error above."
   ]
  },
  {
   "cell_type": "code",
   "execution_count": 13,
   "metadata": {
    "colab": {},
    "colab_type": "code",
    "id": "OW8Z5HvGFKPK"
   },
   "outputs": [
    {
     "name": "stdout",
     "output_type": "stream",
     "text": [
      "He got 35marks in the test\n"
     ]
    }
   ],
   "source": [
    "# Write your code below this line\n",
    "a = \"He got \"\n",
    "b = str(35)\n",
    "c = \"marks in the test\"\n",
    "d = a + b + c\n",
    "print(d)"
   ]
  },
  {
   "cell_type": "markdown",
   "metadata": {
    "colab_type": "text",
    "id": "6UDEPHHQFKPQ"
   },
   "source": [
    "## Part 4: Relational and Logical Operators"
   ]
  },
  {
   "cell_type": "markdown",
   "metadata": {
    "colab_type": "text",
    "id": "uuR8pn6NFKPS"
   },
   "source": [
    "Without running these commands, state whether these statements would be **True** or **False**. \n",
    "    1. 12 > 13\n",
    "    2. 12 > 12\n",
    "    3. 12 >= 12\n",
    "    4. 12 < 12\n",
    "    5. 12 <= 12\n",
    "    6. 12 < 13\n",
    "    7. 12 == 12\n",
    "    8. 12.0 == 12\n",
    "    9. 13.5 >= 13\n",
    "    10. 23.4 > 22.8\n",
    "Now use the **print( )** function to see the output."
   ]
  },
  {
   "cell_type": "code",
   "execution_count": 14,
   "metadata": {
    "colab": {},
    "colab_type": "code",
    "id": "qyhoEHSMFKPT"
   },
   "outputs": [
    {
     "name": "stdout",
     "output_type": "stream",
     "text": [
      "1. False\n",
      "2. False\n",
      "3. True\n",
      "4. False\n",
      "5. True\n",
      "6. True\n",
      "7. True\n",
      "8. True\n",
      "9. True\n",
      "10. True\n"
     ]
    }
   ],
   "source": [
    "# Write your code below this line\n",
    "print(\"1.\", 12 > 13)\n",
    "print(\"2.\", 12 > 12)\n",
    "print(\"3.\",12 >= 12)\n",
    "print(\"4.\",12 < 12)\n",
    "print(\"5.\", 12 <= 12)\n",
    "print(\"6.\", 12 < 13)\n",
    "print(\"7.\", 12 == 12)\n",
    "print(\"8.\", 12.0 == 12)\n",
    "print(\"9.\", 13.5 >= 13)\n",
    "print(\"10.\", 23.4 > 22.8)"
   ]
  },
  {
   "cell_type": "markdown",
   "metadata": {
    "colab_type": "text",
    "id": "v1wsGwY-FKPX"
   },
   "source": [
    "Again without running these commands state whether the statemnts are **True** or **False** and then run the commands to see the output.\n",
    "    1. 12 < 13 and 1 > 2\n",
    "    2. 12 < 13 or 1 > 2\n",
    "    3. 12 < 13 and 14 > 5 or 16 == 15\n",
    "    4. 12 < 13 and 14 > 5 and 16 == 15"
   ]
  },
  {
   "cell_type": "code",
   "execution_count": 15,
   "metadata": {
    "colab": {},
    "colab_type": "code",
    "id": "Z_ZhqrTuFKPY"
   },
   "outputs": [
    {
     "name": "stdout",
     "output_type": "stream",
     "text": [
      "1. False\n",
      "2. False\n",
      "3. True\n",
      "4. False\n"
     ]
    }
   ],
   "source": [
    "# Write your code below this line\n",
    "print(\"1.\", 12<13 and 1>2)\n",
    "print(\"2.\", 12<12 or 1>2)\n",
    "print(\"3.\",12<13 and 14>5 or 16==15)\n",
    "print(\"4.\", 12<13 and 14>5 and 16==15)"
   ]
  },
  {
   "cell_type": "markdown",
   "metadata": {
    "colab_type": "text",
    "id": "3vAtdaSpqfPu"
   },
   "source": [
    "**1** - If a car has been on the driving from **Reading** to **Southampton** for **35 minutes** at an average speed of **48 miles per hour**, how long does it still have to go, considering that it will maintain a constant average speed throughout the trajectory."
   ]
  },
  {
   "cell_type": "markdown",
   "metadata": {
    "colab_type": "text",
    "id": "0ULM8x__qkbf"
   },
   "source": [
    "First, we must define where is Reading and Southampton and try to figure out the best route available:\n",
    "\n",
    "According to [Google Maps](https://www.google.com/maps/dir/Reading,+UK/Southampton,+UK/@51.1815507,-1.3244673,10z/data=!3m1!4b1!4m14!4m13!1m5!1m1!1s0x48742078d93d3db7:0x2ae19f7fcefa7994!2m2!1d-0.9781303!2d51.4542645!1m5!1m1!1s0x48738957be152909:0xa78c5a6a4cda71f0!2m2!1d-1.4043509!2d50.9097004!3e0 \"Reading to Southampton routes\"), the shortest route takes **50.8 miles**. This is my **first assumption** and I should make sure that others are aware that I have made this assumption.\n",
    "\n",
    "Considering that we have all the information needed, let's now run a few lines of code."
   ]
  },
  {
   "cell_type": "code",
   "execution_count": 23,
   "metadata": {
    "colab": {},
    "colab_type": "code",
    "id": "AqydU3z8qlcC"
   },
   "outputs": [
    {
     "name": "stdout",
     "output_type": "stream",
     "text": [
      "time to arrive: 28.5 minutes\n"
     ]
    }
   ],
   "source": [
    "#Your Solution\n",
    "\n",
    "total_time = (50.8/48)\n",
    "time_elapsed = 35/60\n",
    "tta = (total_time-time_elapsed)*60\n",
    "print(f\"time to arrive: {tta} minutes\")"
   ]
  },
  {
   "cell_type": "markdown",
   "metadata": {
    "colab_type": "text",
    "id": "lxLmOB7-qqS9"
   },
   "source": [
    "### Remark:\n",
    "- You can use formatted string literal method to include a variable's value within a string.\n",
    "- To do that you can write an __f__ before the string and place the variable name between __{ }__ at your preferred location inside the string.\n",
    "- You can format the variable by including an optional format specifier. For example __:.2f__ means you want a float output with 2 numbers after the decimal point."
   ]
  },
  {
   "cell_type": "markdown",
   "metadata": {
    "colab_type": "text",
    "id": "CM0oKtPLqtsq"
   },
   "source": [
    "2 - The imperial system can be quite confusing for most of us, so how about converting all variables from the previous exercise to the metric system?"
   ]
  },
  {
   "cell_type": "code",
   "execution_count": 27,
   "metadata": {
    "colab": {},
    "colab_type": "code",
    "id": "O9P99cQcqyfG"
   },
   "outputs": [
    {
     "name": "stdout",
     "output_type": "stream",
     "text": [
      "distance between Reading-Southampton: 81.74 kms\n",
      "average speed: 77.23 km/h\n"
     ]
    }
   ],
   "source": [
    "#Your Solution\n",
    "mi_km = 1.609\n",
    "distance = 50.8\n",
    "speed = 48\n",
    "print(f\"distance between Reading-Southampton: {distance*mi_km:.2f} kms\")\n",
    "print(f\"average speed: {speed*mi_km:.2f} km/h\")"
   ]
  },
  {
   "cell_type": "markdown",
   "metadata": {
    "colab_type": "text",
    "id": "xy1G-Xkeq9CN"
   },
   "source": [
    "3 - You have invited some of your American friends to go to sauna. You check the thermometer and it shows 80C. Convert the temperature into Farenheit. The thermometer from the lake is now showing 15C, could you also convert that?"
   ]
  },
  {
   "cell_type": "markdown",
   "metadata": {
    "colab_type": "text",
    "id": "bWUl4Dfhq_1y"
   },
   "source": [
    "The formula to convert the temperature from Celsius to Farenheit is $F=(\\frac{9}{5} C) + 32$"
   ]
  },
  {
   "cell_type": "code",
   "execution_count": 28,
   "metadata": {
    "colab": {},
    "colab_type": "code",
    "id": "J8Vb2RxVrCSg"
   },
   "outputs": [],
   "source": [
    "#Your Solution\n",
    "\n"
   ]
  },
  {
   "cell_type": "markdown",
   "metadata": {
    "colab_type": "text",
    "id": "fpjyCTyTrEwG"
   },
   "source": [
    "4 - If you invest 100 euros with a 2% monthly interest rate for a year, how much will you have by the end of the period?"
   ]
  },
  {
   "cell_type": "markdown",
   "metadata": {
    "colab_type": "text",
    "id": "dxzf5SLxrKc8"
   },
   "source": [
    "The formula to determine the future value of an investment is:\n",
    "$$FV = PV(1 + r)^k $$\n",
    "Where:\n",
    "- $FV$ is the Future Value;\n",
    "- $PV$ is the Present Value;\n",
    "- $r$ is the interest rate;\n",
    "- $k$ is the number of periods.\n",
    "\n",
    "We are assuming that the payment is in the beginning of the period."
   ]
  },
  {
   "cell_type": "code",
   "execution_count": 0,
   "metadata": {
    "colab": {},
    "colab_type": "code",
    "id": "lTS6OtdDrIEY"
   },
   "outputs": [],
   "source": [
    "#Your Solution"
   ]
  },
  {
   "cell_type": "markdown",
   "metadata": {
    "colab_type": "text",
    "id": "ZoG-IPy8rR-m"
   },
   "source": [
    "There is a different formula for the periods where there are monthly payments and then push that to future value using the formular from the previous exercise. Here is the new formula:\n",
    "$$RTN = PMT \\frac {(1 + r)^k - 1}{r} (1+r)$$\n",
    "Where:\n",
    "- $RTN$ is the return by the end of the last period;\n",
    "- $PMT$ is the monthly payment;\n",
    "- $r$ is the interest rate;\n",
    "- $k$ is the number of periods.\n",
    "\n",
    "Again, we are assuming that the payments are happening in the beginning of the period."
   ]
  },
  {
   "cell_type": "code",
   "execution_count": 0,
   "metadata": {
    "colab": {},
    "colab_type": "code",
    "id": "sWF2xzHDrSeg"
   },
   "outputs": [],
   "source": [
    "#Your Solution"
   ]
  }
 ],
 "metadata": {
  "anaconda-cloud": {},
  "colab": {
   "collapsed_sections": [],
   "name": "Exercise-1.ipynb",
   "provenance": []
  },
  "kernelspec": {
   "display_name": "Python 3",
   "language": "python",
   "name": "python3"
  },
  "language_info": {
   "codemirror_mode": {
    "name": "ipython",
    "version": 3
   },
   "file_extension": ".py",
   "mimetype": "text/x-python",
   "name": "python",
   "nbconvert_exporter": "python",
   "pygments_lexer": "ipython3",
   "version": "3.7.3"
  }
 },
 "nbformat": 4,
 "nbformat_minor": 1
}
